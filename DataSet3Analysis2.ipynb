{
 "cells": [
  {
   "cell_type": "code",
   "execution_count": 188,
   "metadata": {},
   "outputs": [],
   "source": [
    "import sklearn.model_selection\n",
    "import sklearn.tree\n",
    "import pandas\n",
    "import sklearn.ensemble\n",
    "import sklearn.linear_model\n",
    "import matplotlib.pyplot as plt\n",
    "import numpy as np"
   ]
  },
  {
   "cell_type": "code",
   "execution_count": 2,
   "metadata": {},
   "outputs": [],
   "source": [
    "path = 'C:\\\\Users\\\\Alexey.Osipov\\\\Downloads\\\\'\n",
    "tabHot = pandas.read_csv(path + 'HotStartData.csv', sep = ';')\n",
    "tabCold = pandas.read_csv(path + 'ColdStartData.csv', sep = ';')"
   ]
  },
  {
   "cell_type": "code",
   "execution_count": 3,
   "metadata": {},
   "outputs": [],
   "source": [
    "tabHot = pandas.concat([tabHot.drop('GenderInfo', axis=1), pandas.get_dummies(tabHot['GenderInfo'])], axis=1)\n",
    "tabCold = pandas.concat([tabCold.drop('GenderInfo', axis=1), pandas.get_dummies(tabCold['GenderInfo'])], axis=1)"
   ]
  },
  {
   "cell_type": "code",
   "execution_count": 4,
   "metadata": {},
   "outputs": [],
   "source": [
    "yHot = tabHot.Class\n",
    "yCold = tabCold.Class\n",
    "XHot = tabHot.drop('Class', axis=1)\n",
    "XCold = tabCold.drop('Class', axis=1)"
   ]
  },
  {
   "cell_type": "code",
   "execution_count": 5,
   "metadata": {},
   "outputs": [],
   "source": [
    "X_train_Hot, X_test_Hot, y_train_Hot, y_test_Hot = sklearn.model_selection.train_test_split(XHot, yHot, random_state=239)\n",
    "X_train_Cold, X_test_Cold, y_train_Cold, y_test_Cold = sklearn.model_selection.train_test_split(XCold, yCold, random_state=239)"
   ]
  },
  {
   "cell_type": "code",
   "execution_count": 6,
   "metadata": {},
   "outputs": [
    {
     "data": {
      "text/plain": [
       "(     Duration  CreditHistory  Employment  Guarantors  Age  \\\n",
       " 91   0.666667             -2           4           0   54   \n",
       " 436  0.333333              1           3           0   23   \n",
       " 22   0.555556             -2           1           0   48   \n",
       " 237  1.166667              1           4           0   61   \n",
       " 848  0.500000              1           3           0   59   \n",
       " \n",
       "      NumberOfCreditsInBank  JobInfo  NumberOfPeopleBeingLiable       Val  \\\n",
       " 91                       1        2                          1 -0.692948   \n",
       " 436                      1        1                          1 -1.669664   \n",
       " 22                       2        1                          2 -0.095321   \n",
       " 237                      2        1                          1  0.176217   \n",
       " 848                      1        2                          1 -0.734750   \n",
       " \n",
       "      Telephone  Foreign  A91  A92  A93  A94  \n",
       " 91           0        1    0    0    1    0  \n",
       " 436          0        1    0    0    0    1  \n",
       " 22           0        0    0    0    1    0  \n",
       " 237          0        1    1    0    0    0  \n",
       " 848          0        1    0    0    1    0  , 91     0\n",
       " 436    0\n",
       " 22     0\n",
       " 237    1\n",
       " 848    0\n",
       " Name: Class, dtype: int64)"
      ]
     },
     "execution_count": 6,
     "metadata": {},
     "output_type": "execute_result"
    }
   ],
   "source": [
    "X_train_Hot.head(), y_train_Hot.head()"
   ]
  },
  {
   "cell_type": "code",
   "execution_count": 7,
   "metadata": {},
   "outputs": [],
   "source": [
    "def modelFit(model, X_train, y_train):\n",
    "    random_states = [128, 239, 28]\n",
    "    stat_prec = 0\n",
    "    stat_brier = 0\n",
    "    stat_acc = 0\n",
    "    for random_state in random_states:\n",
    "        X_1, X_2, y_1, y_2 = sklearn.model_selection.train_test_split(X_train, y_train, random_state = random_state)\n",
    "        model.fit(X_1, y_1)\n",
    "        stat_prec += sklearn.metrics.average_precision_score(model.predict(X_2), y_2)\n",
    "        stat_brier += sklearn.metrics.brier_score_loss(pandas.DataFrame(model.predict_proba(X_2))[1], y_2)\n",
    "        stat_acc += sklearn.metrics.accuracy_score(model.predict(X_2), y_2)\n",
    "    return stat_prec/3, stat_acc/3, stat_brier/3"
   ]
  },
  {
   "cell_type": "code",
   "execution_count": 146,
   "metadata": {},
   "outputs": [],
   "source": [
    "def modelCheck(model, X_train, y_train, X_test, y_test):\n",
    "    model.fit(X_train, y_train)\n",
    "    probs = pandas.DataFrame(model.predict_proba(X_test))\n",
    "    print(probs.describe())\n",
    "    vals = model.predict(X_test)\n",
    "    return [sklearn.metrics.average_precision_score(y_test, vals),\n",
    "    sklearn.metrics.accuracy_score(y_test, vals),\n",
    "    sklearn.metrics.brier_score_loss(y_test, probs[1])]"
   ]
  },
  {
   "cell_type": "code",
   "execution_count": 9,
   "metadata": {},
   "outputs": [
    {
     "name": "stdout",
     "output_type": "stream",
     "text": [
      "750\n"
     ]
    }
   ],
   "source": [
    "print(y_train_Hot.count())"
   ]
  },
  {
   "cell_type": "code",
   "execution_count": 10,
   "metadata": {},
   "outputs": [
    {
     "name": "stdout",
     "output_type": "stream",
     "text": [
      "750\n",
      "750\n",
      "[0.304, 0.696, 0.21159999999999995]\n",
      "[0.288, 0.712, 0.20519999999999994]\n"
     ]
    }
   ],
   "source": [
    "#estimate baseline\n",
    "baselineTrain = []\n",
    "print(y_train_Hot.count())\n",
    "for i in range(0, y_train_Hot.count()):\n",
    "    baselineTrain.append(0)\n",
    "baselineTest = []\n",
    "for i in range(0, y_test_Hot.count()):\n",
    "    baselineTest.append(0)\n",
    "baselineTrainprobs = []\n",
    "print(y_train_Hot.count())\n",
    "for i in range(0, y_train_Hot.count()):\n",
    "    baselineTrainprobs.append(0.3)\n",
    "baselineTestprobs = []\n",
    "for i in range(0, y_test_Hot.count()):\n",
    "    baselineTestprobs.append(0.3)\n",
    "\n",
    "print([sklearn.metrics.average_precision_score(y_train_Hot, baselineTrain),\n",
    "    sklearn.metrics.accuracy_score(y_train_Hot, baselineTrain),\n",
    "    sklearn.metrics.brier_score_loss(y_train_Hot, baselineTrainprobs)])\n",
    "print([sklearn.metrics.average_precision_score(y_test_Hot, baselineTest),\n",
    "    sklearn.metrics.accuracy_score(y_test_Hot, baselineTest),\n",
    "    sklearn.metrics.brier_score_loss(y_test_Hot, baselineTestprobs)])"
   ]
  },
  {
   "cell_type": "code",
   "execution_count": 143,
   "metadata": {
    "collapsed": true
   },
   "outputs": [],
   "source": [
    "#we try to delete:\n",
    "#(array([0.23820197, 0.14917393, 0.02341734, 0.17343024, 0.01618086,\n",
    "#        0.05331723, 0.04089416, 0.19852072, 0.03420262, 0.01826004,\n",
    "#        0.02292333, 0.02485296, 0.00462944, 0.00199515]),\n",
    "# Index(['Duration', 'CreditHistory', 'Employment', 'Guarantors', 'Age',\n",
    "#        'NumberOfCreditsInBank', 'JobInfo', 'NumberOfPeopleBeingLiable', 'Val',\n",
    "#        'Telephone', 'Foreign', 'A91', 'A92', 'A93', 'A94'],\n",
    "#       dtype='object'))\n",
    "#gender info -> delete\n",
    "#Foreign -> delete\n",
    "#Employment -> delete\n"
   ]
  },
  {
   "cell_type": "code",
   "execution_count": 14,
   "metadata": {},
   "outputs": [],
   "source": [
    "X_train_Hot=X_train_Hot.drop('A91', axis=1)\n",
    "X_train_Hot=X_train_Hot.drop('A92',  axis=1)\n",
    "X_train_Hot=X_train_Hot.drop('A93',  axis=1)\n",
    "X_train_Hot=X_train_Hot.drop('A94',  axis=1)\n",
    "X_train_Hot=X_train_Hot.drop('Foreign',  axis=1)\n",
    "X_test_Hot=X_test_Hot.drop('A91',  axis=1)\n",
    "X_test_Hot=X_test_Hot.drop('A92',  axis=1)\n",
    "X_test_Hot=X_test_Hot.drop('A93',  axis=1)\n",
    "X_test_Hot=X_test_Hot.drop('A94',  axis=1)\n",
    "X_test_Hot=X_test_Hot.drop('Foreign',  axis=1)\n"
   ]
  },
  {
   "cell_type": "code",
   "execution_count": 15,
   "metadata": {},
   "outputs": [],
   "source": [
    "X_test_Hot=X_test_Hot.drop('JobInfo',  axis=1)\n",
    "X_train_Hot=X_train_Hot.drop('JobInfo',  axis=1)"
   ]
  },
  {
   "cell_type": "code",
   "execution_count": 16,
   "metadata": {},
   "outputs": [
    {
     "data": {
      "text/plain": [
       "Index(['Duration', 'CreditHistory', 'Employment', 'Guarantors', 'Age',\n",
       "       'NumberOfCreditsInBank', 'NumberOfPeopleBeingLiable', 'Val',\n",
       "       'Telephone'],\n",
       "      dtype='object')"
      ]
     },
     "execution_count": 16,
     "metadata": {},
     "output_type": "execute_result"
    }
   ],
   "source": [
    "X_train_Hot.columns"
   ]
  },
  {
   "cell_type": "code",
   "execution_count": 147,
   "metadata": {},
   "outputs": [
    {
     "name": "stdout",
     "output_type": "stream",
     "text": [
      "(0.11098103213247144, 0.6808510638297872, 0.3120567375886525)\n",
      "                0           1\n",
      "count  250.000000  250.000000\n",
      "mean     0.696770    0.303230\n",
      "std      0.131103    0.131103\n",
      "min      0.266070    0.072747\n",
      "25%      0.612528    0.203816\n",
      "50%      0.707010    0.292990\n",
      "75%      0.796184    0.387472\n",
      "max      0.927253    0.733930\n",
      "[0.3408888888888889, 0.724, 0.1850746286036134]\n"
     ]
    }
   ],
   "source": [
    "#RF only\n",
    "modelRF = sklearn.ensemble.RandomForestClassifier(n_estimators=11,random_state=239, max_depth=20,min_samples_leaf=4, min_samples_split=0.1)\n",
    "print(modelFit(modelRF, X_train_Hot, y_train_Hot))\n",
    "print(modelCheck(modelRF, X_train_Hot, y_train_Hot, X_test_Hot, y_test_Hot))"
   ]
  },
  {
   "cell_type": "code",
   "execution_count": 18,
   "metadata": {},
   "outputs": [
    {
     "data": {
      "text/plain": [
       "(array([0.24819208, 0.20774852, 0.13678787, 0.01694938, 0.12460749,\n",
       "        0.0081914 , 0.01714867, 0.22306932, 0.01730526]),\n",
       " Index(['Duration', 'CreditHistory', 'Employment', 'Guarantors', 'Age',\n",
       "        'NumberOfCreditsInBank', 'NumberOfPeopleBeingLiable', 'Val',\n",
       "        'Telephone'],\n",
       "       dtype='object'))"
      ]
     },
     "execution_count": 18,
     "metadata": {},
     "output_type": "execute_result"
    }
   ],
   "source": [
    "modelRF.feature_importances_, X_train_Hot.columns"
   ]
  },
  {
   "cell_type": "code",
   "execution_count": 19,
   "metadata": {},
   "outputs": [],
   "source": [
    "#cold case:\n",
    "X_train_Cold=X_train_Cold.drop('A91', axis=1)\n",
    "X_train_Cold=X_train_Cold.drop('A92',  axis=1)\n",
    "X_train_Cold=X_train_Cold.drop('A93',  axis=1)\n",
    "X_train_Cold=X_train_Cold.drop('A94',  axis=1)\n",
    "X_train_Cold=X_train_Cold.drop('Foreign',  axis=1)\n",
    "X_test_Cold=X_test_Cold.drop('A91',  axis=1)\n",
    "X_test_Cold=X_test_Cold.drop('A92',  axis=1)\n",
    "X_test_Cold=X_test_Cold.drop('A93',  axis=1)\n",
    "X_test_Cold=X_test_Cold.drop('A94',  axis=1)\n",
    "X_test_Cold=X_test_Cold.drop('Foreign',  axis=1)\n"
   ]
  },
  {
   "cell_type": "code",
   "execution_count": 20,
   "metadata": {},
   "outputs": [],
   "source": [
    "X_test_Cold=X_test_Cold.drop('JobInfo',  axis=1)\n",
    "X_train_Cold=X_train_Cold.drop('JobInfo',  axis=1)"
   ]
  },
  {
   "cell_type": "code",
   "execution_count": 21,
   "metadata": {},
   "outputs": [
    {
     "name": "stdout",
     "output_type": "stream",
     "text": [
      "(0.04696550378653006, 0.6790780141843972, 0.30851063829787234)\n",
      "                0           1\n",
      "count  250.000000  250.000000\n",
      "mean     0.690863    0.309137\n",
      "std      0.089876    0.089876\n",
      "min      0.390907    0.132616\n",
      "25%      0.643003    0.245470\n",
      "50%      0.700198    0.299802\n",
      "75%      0.754530    0.356997\n",
      "max      0.867384    0.609093\n",
      "[0.3065802469135802, 0.716, 0.19382510871766315]\n"
     ]
    }
   ],
   "source": [
    "#RF only\n",
    "modelRF2 = sklearn.ensemble.RandomForestClassifier(n_estimators=11,random_state=239, max_depth=5,min_samples_leaf=5, min_samples_split=0.1)\n",
    "print(modelFit(modelRF2, X_train_Cold, y_train_Cold))\n",
    "print(modelCheck(modelRF2, X_train_Cold, y_train_Cold, X_test_Cold, y_test_Cold))"
   ]
  },
  {
   "cell_type": "code",
   "execution_count": 22,
   "metadata": {},
   "outputs": [
    {
     "data": {
      "text/plain": [
       "(array([0.2572975 , 0.16803575, 0.04408606, 0.16036929, 0.03286046,\n",
       "        0.03004907, 0.26416688, 0.04313499]),\n",
       " Index(['Duration', 'Employment', 'Guarantors', 'Age', 'NumberOfCreditsInBank',\n",
       "        'NumberOfPeopleBeingLiable', 'Val', 'Telephone'],\n",
       "       dtype='object'))"
      ]
     },
     "execution_count": 22,
     "metadata": {},
     "output_type": "execute_result"
    }
   ],
   "source": [
    "modelRF2.feature_importances_, X_train_Cold.columns"
   ]
  },
  {
   "cell_type": "code",
   "execution_count": 39,
   "metadata": {},
   "outputs": [
    {
     "name": "stdout",
     "output_type": "stream",
     "text": [
      "(0.08629639261679312, 0.6914893617021276, 0.3120567375886525)\n",
      "                0           1\n",
      "count  250.000000  250.000000\n",
      "mean     0.696873    0.303127\n",
      "std      0.131749    0.131749\n",
      "min      0.180092    0.057227\n",
      "25%      0.606668    0.210124\n",
      "50%      0.705893    0.294107\n",
      "75%      0.789876    0.393332\n",
      "max      0.942773    0.819908\n",
      "[0.3181764705882353, 0.716, 0.18354853125747053]\n"
     ]
    }
   ],
   "source": [
    "#logsitic regression only\n",
    "modelReg = sklearn.linear_model.LogisticRegression(penalty = 'l1', random_state=239, C=0.5)\n",
    "print(modelFit(modelReg, X_train_Hot, y_train_Hot))\n",
    "print(modelCheck(modelReg, X_train_Hot, y_train_Hot, X_test_Hot, y_test_Hot))"
   ]
  },
  {
   "cell_type": "code",
   "execution_count": 49,
   "metadata": {},
   "outputs": [
    {
     "name": "stdout",
     "output_type": "stream",
     "text": [
      "(0.07217520577971141, 0.6843971631205674, 0.31560283687943264)\n",
      "                0           1\n",
      "count  250.000000  250.000000\n",
      "mean     0.689918    0.310082\n",
      "std      0.116737    0.116737\n",
      "min      0.199299    0.107166\n",
      "25%      0.629946    0.232210\n",
      "50%      0.705209    0.294791\n",
      "75%      0.767790    0.370054\n",
      "max      0.892834    0.800701\n",
      "[0.3251604938271605, 0.72, 0.1923673512244785]\n"
     ]
    }
   ],
   "source": [
    "#logsitic regression only\n",
    "modelReg2 = sklearn.linear_model.LogisticRegression(penalty = 'l1', random_state=239, C=0.5)\n",
    "print(modelFit(modelReg2, X_train_Cold, y_train_Cold))\n",
    "print(modelCheck(modelReg2, X_train_Cold, y_train_Cold, X_test_Cold, y_test_Cold))"
   ]
  },
  {
   "cell_type": "code",
   "execution_count": 83,
   "metadata": {},
   "outputs": [
    {
     "name": "stdout",
     "output_type": "stream",
     "text": [
      "(0.12581358211312318, 0.6985815602836879, 0.3120567375886525)\n",
      "                0           1\n",
      "count  250.000000  250.000000\n",
      "mean     0.699411    0.300589\n",
      "std      0.160995    0.160995\n",
      "min      0.000000    0.000000\n",
      "25%      0.766727    0.233273\n",
      "50%      0.766727    0.233273\n",
      "75%      0.766727    0.233273\n",
      "max      1.000000    1.000000\n",
      "[0.32558730158730154, 0.7, 0.20907351965677254]\n"
     ]
    }
   ],
   "source": [
    "#decision tree only\n",
    "modelTree = sklearn.tree.DecisionTreeClassifier(random_state=239, max_depth=3)\n",
    "print(modelFit(modelTree, X_train_Hot, y_train_Hot))\n",
    "print(modelCheck(modelTree, X_train_Hot, y_train_Hot, X_test_Hot, y_test_Hot))"
   ]
  },
  {
   "cell_type": "code",
   "execution_count": 67,
   "metadata": {},
   "outputs": [
    {
     "data": {
      "text/plain": [
       "(array([0.29214226, 0.27927553, 0.        , 0.        , 0.14322228,\n",
       "        0.        , 0.09823608, 0.18712386, 0.        ]),\n",
       " Index(['Duration', 'CreditHistory', 'Employment', 'Guarantors', 'Age',\n",
       "        'NumberOfCreditsInBank', 'NumberOfPeopleBeingLiable', 'Val',\n",
       "        'Telephone'],\n",
       "       dtype='object'))"
      ]
     },
     "execution_count": 67,
     "metadata": {},
     "output_type": "execute_result"
    }
   ],
   "source": [
    "modelTree.feature_importances_, X_train_Hot.columns"
   ]
  },
  {
   "cell_type": "code",
   "execution_count": 81,
   "metadata": {},
   "outputs": [
    {
     "name": "stdout",
     "output_type": "stream",
     "text": [
      "(0.11163642532270611, 0.6826241134751774, 0.3120567375886525)\n",
      "                0           1\n",
      "count  250.000000  250.000000\n",
      "mean     0.685788    0.314212\n",
      "std      0.167988    0.167988\n",
      "min      0.000000    0.037037\n",
      "25%      0.618056    0.232044\n",
      "50%      0.767956    0.232044\n",
      "75%      0.767956    0.381944\n",
      "max      0.962963    1.000000\n",
      "[0.3454259259259259, 0.728, 0.19722244269115827]\n"
     ]
    }
   ],
   "source": [
    "#decision tree only\n",
    "modelTree2 = sklearn.tree.DecisionTreeClassifier(random_state=239, max_depth=4)\n",
    "print(modelFit(modelTree2, X_train_Cold, y_train_Cold))\n",
    "print(modelCheck(modelTree2, X_train_Cold, y_train_Cold, X_test_Cold, y_test_Cold))"
   ]
  },
  {
   "cell_type": "code",
   "execution_count": 85,
   "metadata": {},
   "outputs": [
    {
     "data": {
      "text/plain": [
       "(array([0.43367656, 0.09185051, 0.        , 0.12661024, 0.        ,\n",
       "        0.08519873, 0.26266396, 0.        ]),\n",
       " Index(['Duration', 'Employment', 'Guarantors', 'Age', 'NumberOfCreditsInBank',\n",
       "        'NumberOfPeopleBeingLiable', 'Val', 'Telephone'],\n",
       "       dtype='object'))"
      ]
     },
     "execution_count": 85,
     "metadata": {},
     "output_type": "execute_result"
    }
   ],
   "source": [
    "modelTree2.feature_importances_, X_train_Cold.columns"
   ]
  },
  {
   "cell_type": "code",
   "execution_count": 139,
   "metadata": {},
   "outputs": [],
   "source": [
    "#we try to blend 2 or 3 models:\n",
    "def modelFitFor3(model1, model2, model3, X_train, y_train, control=3):\n",
    "    random_states = [128, 239, 28]\n",
    "    stat_prec = 0\n",
    "    stat_brier = 0\n",
    "    stat_acc = 0\n",
    "    for random_state in random_states:\n",
    "        X_1, X_2, y_1, y_2 = sklearn.model_selection.train_test_split(X_train, y_train, random_state = random_state)\n",
    "        model1.fit(X_1, y_1)\n",
    "        model2.fit(X_1, y_1)\n",
    "        model3.fit(X_1, y_1)\n",
    "        if (control==3):\n",
    "            xvec=(0.333333*(model1.predict(X_2)+model2.predict(X_2)+model3.predict(X_2)))\n",
    "        else:\n",
    "            xvec=(0.5*(model2.predict(X_2)+model3.predict(X_2)))\n",
    "        for i in range(0, len(xvec)): \n",
    "            xvec[i] = round(xvec[i])\n",
    "        #print(xvec)\n",
    "        #print(0.3*(model1.predict(X_2) + model2.predict(X_2) + model3.predict(X_2)))\n",
    "        stat_prec += sklearn.metrics.average_precision_score(xvec, y_2)\n",
    "        if (control==3):\n",
    "            stat_brier += sklearn.metrics.brier_score_loss(0.33333*(pandas.DataFrame(model1.predict_proba(X_2))[1] + pandas.DataFrame(model2.predict_proba(X_2))[1] + pandas.DataFrame(model3.predict_proba(X_2))[1]), y_2)\n",
    "        else:\n",
    "            stat_brier += sklearn.metrics.brier_score_loss(0.5*(pandas.DataFrame(model2.predict_proba(X_2))[1] + pandas.DataFrame(model3.predict_proba(X_2))[1]), y_2)\n",
    "        stat_acc += sklearn.metrics.accuracy_score(xvec, y_2)\n",
    "    return stat_prec/3, stat_acc/3, stat_brier/3    "
   ]
  },
  {
   "cell_type": "code",
   "execution_count": 154,
   "metadata": {},
   "outputs": [],
   "source": [
    "def modelCheckFor3(model1, model2, model3, X_train, y_train, X_test, y_test, control=3):\n",
    "    model1.fit(X_train, y_train)\n",
    "    model2.fit(X_train, y_train)\n",
    "    model3.fit(X_train, y_train)\n",
    "\n",
    "    if (control==3):\n",
    "        vals=(0.3333333*(model1.predict(X_test)+model2.predict(X_test)+model3.predict(X_test)))\n",
    "    else:\n",
    "        vals=(0.5*(model2.predict(X_test)+model3.predict(X_test)))\n",
    "        \n",
    "    for i in range(0, len(vals)): \n",
    "        vals[i] = round(vals[i])\n",
    "\n",
    "    if (control==3):\n",
    "        probs=(0.3333333*(pandas.DataFrame(model1.predict_proba(X_test))+pandas.DataFrame(model2.predict_proba(X_test))+pandas.DataFrame(model3.predict_proba(X_test))))\n",
    "    else:\n",
    "        probs=(0.5*(pandas.DataFrame(model2.predict_proba(X_test))+pandas.DataFrame(model3.predict_proba(X_test))))\n",
    "    \n",
    "    print(probs.describe())\n",
    "    return [sklearn.metrics.average_precision_score(y_test, vals),\n",
    "    sklearn.metrics.accuracy_score(y_test, vals),\n",
    "    sklearn.metrics.brier_score_loss(y_test, probs[1])]"
   ]
  },
  {
   "cell_type": "code",
   "execution_count": 140,
   "metadata": {},
   "outputs": [
    {
     "data": {
      "text/plain": [
       "(0.09493811494079685, 0.6950354609929078, 0.3120567375886525)"
      ]
     },
     "execution_count": 140,
     "metadata": {},
     "output_type": "execute_result"
    }
   ],
   "source": [
    "modelFitFor3(modelRF, modelTree, modelReg, X_train_Hot, y_train_Hot)"
   ]
  },
  {
   "cell_type": "code",
   "execution_count": 141,
   "metadata": {},
   "outputs": [
    {
     "data": {
      "text/plain": [
       "(0.05316086245372853, 0.6950354609929078, 0.3120567375886525)"
      ]
     },
     "execution_count": 141,
     "metadata": {},
     "output_type": "execute_result"
    }
   ],
   "source": [
    "modelFitFor3(modelRF, modelTree, modelReg, X_train_Hot, y_train_Hot, 2)"
   ]
  },
  {
   "cell_type": "code",
   "execution_count": 155,
   "metadata": {},
   "outputs": [
    {
     "name": "stdout",
     "output_type": "stream",
     "text": [
      "                0           1\n",
      "count  250.000000  250.000000\n",
      "mean     0.697685    0.302315\n",
      "std      0.118828    0.118828\n",
      "min      0.323070    0.130803\n",
      "25%      0.649758    0.218190\n",
      "50%      0.724302    0.275698\n",
      "75%      0.781810    0.350242\n",
      "max      0.869197    0.676930\n"
     ]
    },
    {
     "data": {
      "text/plain": [
       "[0.324026455026455, 0.716, 0.18655312963960727]"
      ]
     },
     "execution_count": 155,
     "metadata": {},
     "output_type": "execute_result"
    }
   ],
   "source": [
    "modelCheckFor3(modelRF, modelTree, modelReg, X_train_Hot, y_train_Hot, X_test_Hot, y_test_Hot)"
   ]
  },
  {
   "cell_type": "code",
   "execution_count": 156,
   "metadata": {},
   "outputs": [
    {
     "name": "stdout",
     "output_type": "stream",
     "text": [
      "                0           1\n",
      "count  250.000000  250.000000\n",
      "mean     0.698142    0.301858\n",
      "std      0.124307    0.124307\n",
      "min      0.243215    0.145250\n",
      "25%      0.668643    0.218150\n",
      "50%      0.734722    0.265278\n",
      "75%      0.781850    0.331357\n",
      "max      0.854750    0.756785\n"
     ]
    },
    {
     "data": {
      "text/plain": [
       "[0.3094545454545454, 0.716, 0.1901478294674256]"
      ]
     },
     "execution_count": 156,
     "metadata": {},
     "output_type": "execute_result"
    }
   ],
   "source": [
    "modelCheckFor3(modelRF, modelTree, modelReg, X_train_Hot, y_train_Hot, X_test_Hot, y_test_Hot, 2)"
   ]
  },
  {
   "cell_type": "code",
   "execution_count": 157,
   "metadata": {},
   "outputs": [
    {
     "data": {
      "text/plain": [
       "(0.05514692874785848, 0.6790780141843972, 0.31560283687943264)"
      ]
     },
     "execution_count": 157,
     "metadata": {},
     "output_type": "execute_result"
    }
   ],
   "source": [
    "modelFitFor3(modelRF2, modelTree2, modelReg2, X_train_Cold, y_train_Cold)"
   ]
  },
  {
   "cell_type": "code",
   "execution_count": 158,
   "metadata": {},
   "outputs": [
    {
     "data": {
      "text/plain": [
       "(0.03694858558080443, 0.6914893617021276, 0.3120567375886525)"
      ]
     },
     "execution_count": 158,
     "metadata": {},
     "output_type": "execute_result"
    }
   ],
   "source": [
    "modelFitFor3(modelRF2, modelTree2, modelReg2, X_train_Cold, y_train_Cold, 2)"
   ]
  },
  {
   "cell_type": "code",
   "execution_count": 159,
   "metadata": {},
   "outputs": [
    {
     "name": "stdout",
     "output_type": "stream",
     "text": [
      "                0           1\n",
      "count  250.000000  250.000000\n",
      "mean     0.688856    0.311144\n",
      "std      0.107560    0.107560\n",
      "min      0.314145    0.092430\n",
      "25%      0.647280    0.245801\n",
      "50%      0.713459    0.286541\n",
      "75%      0.754199    0.352720\n",
      "max      0.907570    0.685855\n"
     ]
    },
    {
     "data": {
      "text/plain": [
       "[0.3251604938271605, 0.72, 0.18941441171174264]"
      ]
     },
     "execution_count": 159,
     "metadata": {},
     "output_type": "execute_result"
    }
   ],
   "source": [
    "modelCheckFor3(modelRF2, modelTree2, modelReg2, X_train_Cold, y_train_Cold, X_test_Cold, y_test_Cold)"
   ]
  },
  {
   "cell_type": "code",
   "execution_count": 160,
   "metadata": {},
   "outputs": [
    {
     "name": "stdout",
     "output_type": "stream",
     "text": [
      "                0           1\n",
      "count  250.000000  250.000000\n",
      "mean     0.687853    0.312147\n",
      "std      0.125160    0.125160\n",
      "min      0.255367    0.072337\n",
      "25%      0.647438    0.240992\n",
      "50%      0.715860    0.284140\n",
      "75%      0.759008    0.352562\n",
      "max      0.927663    0.744633\n"
     ]
    },
    {
     "data": {
      "text/plain": [
       "[0.327, 0.724, 0.18955283609858478]"
      ]
     },
     "execution_count": 160,
     "metadata": {},
     "output_type": "execute_result"
    }
   ],
   "source": [
    "modelCheckFor3(modelRF2, modelTree2, modelReg2, X_train_Cold, y_train_Cold, X_test_Cold, y_test_Cold, 2)"
   ]
  },
  {
   "cell_type": "code",
   "execution_count": null,
   "metadata": {},
   "outputs": [],
   "source": []
  },
  {
   "cell_type": "code",
   "execution_count": 161,
   "metadata": {},
   "outputs": [],
   "source": [
    "X_train_solo = X_train_Cold.Val\n",
    "X_test_solo = X_test_Cold.Val"
   ]
  },
  {
   "cell_type": "code",
   "execution_count": 162,
   "metadata": {},
   "outputs": [
    {
     "data": {
      "text/plain": [
       "count    750.000000\n",
       "mean       0.024371\n",
       "std        0.996459\n",
       "min       -2.919902\n",
       "25%       -0.721600\n",
       "50%       -0.030872\n",
       "75%        0.650590\n",
       "max        2.431774\n",
       "Name: Val, dtype: float64"
      ]
     },
     "execution_count": 162,
     "metadata": {},
     "output_type": "execute_result"
    }
   ],
   "source": [
    "X_train_solo.describe()"
   ]
  },
  {
   "cell_type": "code",
   "execution_count": 168,
   "metadata": {},
   "outputs": [
    {
     "name": "stdout",
     "output_type": "stream",
     "text": [
      "(nan, 0.6861702127659575, 0.3120567375886525)\n",
      "                0           1\n",
      "count  250.000000  250.000000\n",
      "mean     0.699536    0.300464\n",
      "std      0.048989    0.048989\n",
      "min      0.559055    0.185397\n",
      "25%      0.668574    0.264770\n",
      "50%      0.707883    0.292117\n",
      "75%      0.735230    0.331426\n",
      "max      0.814603    0.440945\n",
      "[0.288, 0.712, 0.20197657008867076]\n"
     ]
    },
    {
     "name": "stderr",
     "output_type": "stream",
     "text": [
      "C:\\Users\\Alexey.Osipov\\AppData\\Local\\Continuum\\anaconda3\\lib\\site-packages\\sklearn\\metrics\\ranking.py:444: RuntimeWarning: invalid value encountered in true_divide\n",
      "  recall = tps / tps[-1]\n"
     ]
    }
   ],
   "source": [
    "modelRegSolo = sklearn.linear_model.LogisticRegression(random_state=239)\n",
    "print(modelFit(modelRegSolo, pandas.DataFrame(X_train_solo), y_train_Hot))\n",
    "print(modelCheck(modelRegSolo, pandas.DataFrame(X_train_solo), y_train_Hot, pandas.DataFrame(X_test_solo), y_test_Hot))"
   ]
  },
  {
   "cell_type": "code",
   "execution_count": 172,
   "metadata": {},
   "outputs": [
    {
     "data": {
      "text/plain": [
       "(array([[0.2297213]]), array([-0.8387111]))"
      ]
     },
     "execution_count": 172,
     "metadata": {},
     "output_type": "execute_result"
    }
   ],
   "source": [
    "modelRegSolo.coef_, modelRegSolo.intercept_"
   ]
  },
  {
   "cell_type": "code",
   "execution_count": 197,
   "metadata": {},
   "outputs": [
    {
     "data": {
      "text/plain": [
       "[<matplotlib.lines.Line2D at 0x17d2fd459b0>]"
      ]
     },
     "execution_count": 197,
     "metadata": {},
     "output_type": "execute_result"
    },
    {
     "data": {
      "image/png": "[encoded data removed]",
      "text/plain": [
       "<Figure size 432x288 with 1 Axes>"
      ]
     },
     "metadata": {},
     "output_type": "display_data"
    }
   ],
   "source": [
    "\n",
    "\n",
    "def model(x):\n",
    "    return 1 / (1 + np.exp(-x))\n",
    "\n",
    "X_tt = pandas.DataFrame(X_test_solo).values\n",
    "\n",
    "loss = model(X_tt * modelRegSolo.coef_ + modelRegSolo.intercept_).ravel()\n",
    "plt.plot(X_tt, loss, color='red', linewidth=3)"
   ]
  },
  {
   "cell_type": "code",
   "execution_count": 196,
   "metadata": {},
   "outputs": [
    {
     "data": {
      "text/plain": [
       "array([[ 5.22992747e-01],\n",
       "       [-8.07585643e-01],\n",
       "       [-2.21250474e+00],\n",
       "       [-5.31645848e-01],\n",
       "       [-2.56744647e-01],\n",
       "       [ 2.46852286e-01],\n",
       "       [ 3.32088360e-01],\n",
       "       [-6.17508046e-01],\n",
       "       [ 4.22069119e-01],\n",
       "       [-3.02496297e-01],\n",
       "       [-1.35754622e+00],\n",
       "       [-5.80964170e-01],\n",
       "       [-3.35310121e-01],\n",
       "       [-6.84747442e-01],\n",
       "       [-1.05706649e-01],\n",
       "       [ 4.77393145e-01],\n",
       "       [-6.26157325e-01],\n",
       "       [-2.69839554e-01],\n",
       "       [ 1.16073178e+00],\n",
       "       [-1.13260178e-01],\n",
       "       [-3.65433080e-01],\n",
       "       [ 6.99179742e-01],\n",
       "       [ 7.64773763e-01],\n",
       "       [-6.31374912e-01],\n",
       "       [-8.70021570e-01],\n",
       "       [-1.06865851e-01],\n",
       "       [ 1.12936415e+00],\n",
       "       [-4.85702093e-01],\n",
       "       [ 1.36194885e+00],\n",
       "       [-8.65212271e-03],\n",
       "       [ 9.76285974e-01],\n",
       "       [-8.08585156e-01],\n",
       "       [-1.00245381e+00],\n",
       "       [-1.08154804e+00],\n",
       "       [ 6.37568532e-01],\n",
       "       [-8.22660407e-01],\n",
       "       [ 1.28794346e+00],\n",
       "       [-2.22746276e+00],\n",
       "       [ 6.47613638e-01],\n",
       "       [-1.09896880e+00],\n",
       "       [ 1.60421047e+00],\n",
       "       [-6.37488935e-01],\n",
       "       [-1.73777916e+00],\n",
       "       [-9.40061173e-01],\n",
       "       [-9.50066276e-01],\n",
       "       [ 1.22022989e+00],\n",
       "       [-6.60455724e-01],\n",
       "       [ 2.12977244e+00],\n",
       "       [-1.57743250e+00],\n",
       "       [ 8.24096100e-01],\n",
       "       [-1.06435978e+00],\n",
       "       [-1.18710713e+00],\n",
       "       [ 3.42356898e-01],\n",
       "       [ 2.34900808e-01],\n",
       "       [-5.50328657e-01],\n",
       "       [-4.35057832e-02],\n",
       "       [-1.16581950e+00],\n",
       "       [ 7.28611120e-01],\n",
       "       [-3.20851091e-01],\n",
       "       [ 1.50359528e-01],\n",
       "       [-7.27218777e-01],\n",
       "       [-7.50902281e-01],\n",
       "       [-6.89296626e-01],\n",
       "       [-6.31374912e-01],\n",
       "       [ 4.70767949e-02],\n",
       "       [-2.81075879e-01],\n",
       "       [ 2.40953326e+00],\n",
       "       [ 1.81235428e+00],\n",
       "       [-1.22522875e+00],\n",
       "       [ 1.34778396e+00],\n",
       "       [ 2.01760139e+00],\n",
       "       [-1.42998844e+00],\n",
       "       [ 1.68827526e-02],\n",
       "       [ 1.61962880e+00],\n",
       "       [ 1.49061417e+00],\n",
       "       [ 2.89323016e-01],\n",
       "       [-3.71828048e-01],\n",
       "       [ 1.38199612e+00],\n",
       "       [-1.07292524e+00],\n",
       "       [ 5.67376437e-01],\n",
       "       [ 1.81789790e-01],\n",
       "       [-1.59536043e-01],\n",
       "       [-1.30797768e+00],\n",
       "       [-1.10398975e+00],\n",
       "       [-8.82668538e-01],\n",
       "       [-5.86842960e-01],\n",
       "       [-6.00381826e-01],\n",
       "       [ 2.28059950e+00],\n",
       "       [ 6.37568532e-01],\n",
       "       [-6.39241143e-01],\n",
       "       [ 1.30258536e-01],\n",
       "       [ 1.13025204e+00],\n",
       "       [-6.99361757e-01],\n",
       "       [-9.45609965e-01],\n",
       "       [-4.21200135e-01],\n",
       "       [-1.15661567e+00],\n",
       "       [-4.89660597e-03],\n",
       "       [-3.45738299e-01],\n",
       "       [-1.25740974e+00],\n",
       "       [-1.55939478e+00],\n",
       "       [ 5.76959381e-01],\n",
       "       [ 1.32318743e+00],\n",
       "       [-3.79687491e-01],\n",
       "       [ 1.34365436e+00],\n",
       "       [ 1.99149191e+00],\n",
       "       [-7.78932136e-01],\n",
       "       [ 2.13375964e-01],\n",
       "       [ 8.46001617e-02],\n",
       "       [-7.25342779e-01],\n",
       "       [-6.31374912e-01],\n",
       "       [ 4.91332794e-02],\n",
       "       [-3.09263905e-01],\n",
       "       [-8.59576480e-01],\n",
       "       [-1.61055103e+00],\n",
       "       [ 1.85918187e+00],\n",
       "       [ 1.08302058e+00],\n",
       "       [-6.35739107e-01],\n",
       "       [ 6.64289522e-01],\n",
       "       [ 1.65935974e-01],\n",
       "       [ 5.11864852e-02],\n",
       "       [ 1.16246424e+00],\n",
       "       [-5.47876344e-01],\n",
       "       [-8.38937054e-01],\n",
       "       [ 1.38432483e-01],\n",
       "       [ 1.77456847e+00],\n",
       "       [ 1.13865653e+00],\n",
       "       [-2.22673648e-01],\n",
       "       [-4.90378924e-02],\n",
       "       [-5.54426252e-01],\n",
       "       [ 4.19759722e-01],\n",
       "       [-2.40561060e-01],\n",
       "       [ 9.20843809e-01],\n",
       "       [ 1.23667805e+00],\n",
       "       [-6.24127220e-02],\n",
       "       [-2.79248001e+00],\n",
       "       [ 5.54255899e-01],\n",
       "       [ 1.18796328e+00],\n",
       "       [ 9.82882915e-04],\n",
       "       [-5.70948259e-01],\n",
       "       [ 5.86133033e-01],\n",
       "       [ 7.35563628e-01],\n",
       "       [-1.23354657e+00],\n",
       "       [-2.82404268e-01],\n",
       "       [-8.58536615e-01],\n",
       "       [-6.34865085e-01],\n",
       "       [ 1.44624742e+00],\n",
       "       [ 2.61788349e+00],\n",
       "       [ 5.36434007e-01],\n",
       "       [-1.68020884e-01],\n",
       "       [-1.08650140e+00],\n",
       "       [-7.14143815e-01],\n",
       "       [-1.41869832e+00],\n",
       "       [ 1.86859665e+00],\n",
       "       [-4.13819754e-01],\n",
       "       [-1.59941662e+00],\n",
       "       [ 1.53015699e-02],\n",
       "       [-5.41359580e-01],\n",
       "       [-5.90214357e-01],\n",
       "       [ 1.01480776e-01],\n",
       "       [-5.26816319e-01],\n",
       "       [-1.56298217e+00],\n",
       "       [-4.35057832e-02],\n",
       "       [-1.59204680e+00],\n",
       "       [ 6.98559379e-01],\n",
       "       [ 3.47664355e-01],\n",
       "       [-1.18979299e+00],\n",
       "       [ 2.08372194e+00],\n",
       "       [-1.16713971e+00],\n",
       "       [-2.28594243e+00],\n",
       "       [-1.79026693e+00],\n",
       "       [-1.59204680e+00],\n",
       "       [-1.56298217e+00],\n",
       "       [-1.48966886e+00],\n",
       "       [ 1.01374685e+00],\n",
       "       [-8.42011960e-01],\n",
       "       [ 7.26184032e-01],\n",
       "       [ 4.83273855e-01],\n",
       "       [-1.04980740e+00],\n",
       "       [ 4.35458684e-01],\n",
       "       [ 4.58840919e-01],\n",
       "       [-6.34865085e-01],\n",
       "       [-7.07655778e-01],\n",
       "       [ 2.02933079e-01],\n",
       "       [-7.09506170e-01],\n",
       "       [ 5.99604633e-01],\n",
       "       [ 1.64383116e+00],\n",
       "       [ 1.48236879e+00],\n",
       "       [ 5.42051783e-01],\n",
       "       [-4.84146691e-01],\n",
       "       [ 1.16549047e+00],\n",
       "       [-1.24893687e+00],\n",
       "       [-1.66576758e+00],\n",
       "       [ 5.14788568e-01],\n",
       "       [ 2.70860107e-01],\n",
       "       [-8.14598580e-01],\n",
       "       [ 2.87616658e-01],\n",
       "       [-1.06557994e+00],\n",
       "       [ 1.08367814e-01],\n",
       "       [-7.32863224e-01],\n",
       "       [-5.73444943e-01],\n",
       "       [ 7.91894027e-01],\n",
       "       [ 9.68007029e-01],\n",
       "       [-3.82560959e-03],\n",
       "       [ 7.89294304e-01],\n",
       "       [-6.08060455e-01],\n",
       "       [-2.64585603e-01],\n",
       "       [-2.95092774e-01],\n",
       "       [-1.65590935e-01],\n",
       "       [ 1.84715682e+00],\n",
       "       [-9.68047335e-01],\n",
       "       [-1.20466622e+00],\n",
       "       [-1.08774272e+00],\n",
       "       [ 3.57809935e-01],\n",
       "       [-1.81468186e-01],\n",
       "       [-8.32809179e-01],\n",
       "       [-7.80887903e-01],\n",
       "       [ 3.15475904e-02],\n",
       "       [-1.51707004e-01],\n",
       "       [ 1.90873821e+00],\n",
       "       [-3.41556890e-01],\n",
       "       [ 5.05450908e-01],\n",
       "       [-9.85135677e-01],\n",
       "       [ 1.67473101e+00],\n",
       "       [ 3.77068211e-01],\n",
       "       [ 1.47441004e+00],\n",
       "       [ 2.63292968e-02],\n",
       "       [ 8.09946613e-01],\n",
       "       [-5.75112093e-01],\n",
       "       [ 1.51487363e+00],\n",
       "       [ 3.19240604e-01],\n",
       "       [ 1.24218223e+00],\n",
       "       [-8.21649914e-01],\n",
       "       [-1.54514433e+00],\n",
       "       [-4.39838273e-01],\n",
       "       [-7.99617341e-01],\n",
       "       [-1.13582213e+00],\n",
       "       [ 9.59674518e-01],\n",
       "       [ 1.19116438e-01],\n",
       "       [ 2.08742075e+00],\n",
       "       [-3.52737625e-01],\n",
       "       [-7.17865993e-01],\n",
       "       [-1.43811384e+00],\n",
       "       [-8.25696650e-01],\n",
       "       [-1.21971323e+00],\n",
       "       [ 8.84570746e-01],\n",
       "       [-1.78399628e-01],\n",
       "       [ 8.09946613e-01],\n",
       "       [ 3.12977633e-01],\n",
       "       [ 6.19881286e-01],\n",
       "       [-2.83734028e-01]])"
      ]
     },
     "execution_count": 196,
     "metadata": {},
     "output_type": "execute_result"
    }
   ],
   "source": [
    "pandas.DataFrame(X_test_solo).values"
   ]
  },
  {
   "cell_type": "code",
   "execution_count": 171,
   "metadata": {},
   "outputs": [
    {
     "name": "stdout",
     "output_type": "stream",
     "text": [
      "(0.31168800065337404, 0.5726950354609929, 0.42730496453900707)\n",
      "               0          1\n",
      "count  250.00000  250.00000\n",
      "mean     0.72600    0.27400\n",
      "std      0.43897    0.43897\n",
      "min      0.00000    0.00000\n",
      "25%      0.00000    0.00000\n",
      "50%      1.00000    0.00000\n",
      "75%      1.00000    1.00000\n",
      "max      1.00000    1.00000\n",
      "[0.3034188034188034, 0.628, 0.371]\n"
     ]
    }
   ],
   "source": [
    "modelTreeSolo = sklearn.tree.DecisionTreeClassifier(random_state=239, max_depth=200)\n",
    "print(modelFit(modelTreeSolo, pandas.DataFrame(X_train_solo), y_train_Hot))\n",
    "print(modelCheck(modelTreeSolo, pandas.DataFrame(X_train_solo), y_train_Hot, pandas.DataFrame(X_test_solo), y_test_Hot))"
   ]
  },
  {
   "cell_type": "markdown",
   "metadata": {},
   "source": []
  },
  {
   "cell_type": "code",
   "execution_count": 198,
   "metadata": {},
   "outputs": [],
   "source": [
    "quantIntens = pandas.read_csv(path + 'quantIntensDatFor3DataSet.csv', sep = ';')"
   ]
  },
  {
   "cell_type": "code",
   "execution_count": 200,
   "metadata": {},
   "outputs": [],
   "source": [
    "quantIntens['x'] = (quantIntens['quants1'] + quantIntens['quants2'])/2\n",
    "quantIntens['val'] = quantIntens['numOfFrauds']/quantIntens['numOfRows']"
   ]
  },
  {
   "cell_type": "code",
   "execution_count": 203,
   "metadata": {},
   "outputs": [
    {
     "data": {
      "text/plain": [
       "[<matplotlib.lines.Line2D at 0x17d2fdabb38>]"
      ]
     },
     "execution_count": 203,
     "metadata": {},
     "output_type": "execute_result"
    },
    {
     "data": {
      "image/png": "[encoded data removed]",
      "text/plain": [
       "<Figure size 432x288 with 1 Axes>"
      ]
     },
     "metadata": {},
     "output_type": "display_data"
    }
   ],
   "source": [
    "plt.plot(quantIntens.x.values, quantIntens.val.values)\n",
    "def model(x):\n",
    "    return 1 / (1 + np.exp(-x))\n",
    "\n",
    "X_tt = pandas.DataFrame(X_test_solo).values\n",
    "\n",
    "loss = model(X_tt * modelRegSolo.coef_ + modelRegSolo.intercept_).ravel()\n",
    "plt.plot(X_tt, loss, color='red', linewidth=3)"
   ]
  },
  {
   "cell_type": "code",
   "execution_count": null,
   "metadata": {},
   "outputs": [],
   "source": []
  }
 ],
 "metadata": {
  "kernelspec": {
   "display_name": "Python 3",
   "language": "python",
   "name": "python3"
  },
  "language_info": {
   "codemirror_mode": {
    "name": "ipython",
    "version": 3
   },
   "file_extension": ".py",
   "mimetype": "text/x-python",
   "name": "python",
   "nbconvert_exporter": "python",
   "pygments_lexer": "ipython3",
   "version": "3.6.5"
  }
 },
 "nbformat": 4,
 "nbformat_minor": 2
}
