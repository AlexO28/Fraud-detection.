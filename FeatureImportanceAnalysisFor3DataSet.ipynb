{
 "cells": [
  {
   "cell_type": "code",
   "execution_count": 62,
   "metadata": {
    "collapsed": true
   },
   "outputs": [],
   "source": [
    "import pandas\n",
    "import sklearn.ensemble\n",
    "import sklearn.feature_selection"
   ]
  },
  {
   "cell_type": "code",
   "execution_count": 50,
   "metadata": {
    "collapsed": true
   },
   "outputs": [],
   "source": [
    "path = 'C:\\\\RScripts\\\\'#'C:\\\\Users\\\\Alexey.Osipov\\\\Downloads\\\\'\n",
    "tabHot = pandas.read_csv(path + 'HotStartData.csv', sep = ';')"
   ]
  },
  {
   "cell_type": "code",
   "execution_count": 51,
   "metadata": {
    "collapsed": false
   },
   "outputs": [
    {
     "data": {
      "text/html": [
       "<div>\n",
       "<table border=\"1\" class=\"dataframe\">\n",
       "  <thead>\n",
       "    <tr style=\"text-align: right;\">\n",
       "      <th></th>\n",
       "      <th>Duration</th>\n",
       "      <th>CreditHistory</th>\n",
       "      <th>Employment</th>\n",
       "      <th>GenderInfo</th>\n",
       "      <th>Guarantors</th>\n",
       "      <th>Age</th>\n",
       "      <th>NumberOfCreditsInBank</th>\n",
       "      <th>JobInfo</th>\n",
       "      <th>NumberOfPeopleBeingLiable</th>\n",
       "      <th>Class</th>\n",
       "      <th>Val</th>\n",
       "      <th>Telephone</th>\n",
       "      <th>Foreign</th>\n",
       "    </tr>\n",
       "  </thead>\n",
       "  <tbody>\n",
       "    <tr>\n",
       "      <th>0</th>\n",
       "      <td>0.333333</td>\n",
       "      <td>-2</td>\n",
       "      <td>4</td>\n",
       "      <td>A93</td>\n",
       "      <td>0</td>\n",
       "      <td>67</td>\n",
       "      <td>2</td>\n",
       "      <td>2</td>\n",
       "      <td>1</td>\n",
       "      <td>0</td>\n",
       "      <td>-0.933434</td>\n",
       "      <td>1</td>\n",
       "      <td>1</td>\n",
       "    </tr>\n",
       "    <tr>\n",
       "      <th>1</th>\n",
       "      <td>2.666667</td>\n",
       "      <td>1</td>\n",
       "      <td>2</td>\n",
       "      <td>A92</td>\n",
       "      <td>0</td>\n",
       "      <td>22</td>\n",
       "      <td>1</td>\n",
       "      <td>2</td>\n",
       "      <td>1</td>\n",
       "      <td>1</td>\n",
       "      <td>1.162464</td>\n",
       "      <td>0</td>\n",
       "      <td>1</td>\n",
       "    </tr>\n",
       "    <tr>\n",
       "      <th>2</th>\n",
       "      <td>0.666667</td>\n",
       "      <td>-2</td>\n",
       "      <td>3</td>\n",
       "      <td>A93</td>\n",
       "      <td>0</td>\n",
       "      <td>49</td>\n",
       "      <td>1</td>\n",
       "      <td>1</td>\n",
       "      <td>2</td>\n",
       "      <td>0</td>\n",
       "      <td>-0.181468</td>\n",
       "      <td>0</td>\n",
       "      <td>1</td>\n",
       "    </tr>\n",
       "    <tr>\n",
       "      <th>3</th>\n",
       "      <td>2.333333</td>\n",
       "      <td>1</td>\n",
       "      <td>3</td>\n",
       "      <td>A93</td>\n",
       "      <td>2</td>\n",
       "      <td>45</td>\n",
       "      <td>1</td>\n",
       "      <td>2</td>\n",
       "      <td>2</td>\n",
       "      <td>0</td>\n",
       "      <td>1.524386</td>\n",
       "      <td>0</td>\n",
       "      <td>1</td>\n",
       "    </tr>\n",
       "    <tr>\n",
       "      <th>4</th>\n",
       "      <td>1.333333</td>\n",
       "      <td>-1</td>\n",
       "      <td>2</td>\n",
       "      <td>A93</td>\n",
       "      <td>0</td>\n",
       "      <td>53</td>\n",
       "      <td>2</td>\n",
       "      <td>2</td>\n",
       "      <td>2</td>\n",
       "      <td>1</td>\n",
       "      <td>0.904290</td>\n",
       "      <td>0</td>\n",
       "      <td>1</td>\n",
       "    </tr>\n",
       "  </tbody>\n",
       "</table>\n",
       "</div>"
      ],
      "text/plain": [
       "   Duration  CreditHistory  Employment GenderInfo  Guarantors  Age  \\\n",
       "0  0.333333             -2           4        A93           0   67   \n",
       "1  2.666667              1           2        A92           0   22   \n",
       "2  0.666667             -2           3        A93           0   49   \n",
       "3  2.333333              1           3        A93           2   45   \n",
       "4  1.333333             -1           2        A93           0   53   \n",
       "\n",
       "   NumberOfCreditsInBank  JobInfo  NumberOfPeopleBeingLiable  Class       Val  \\\n",
       "0                      2        2                          1      0 -0.933434   \n",
       "1                      1        2                          1      1  1.162464   \n",
       "2                      1        1                          2      0 -0.181468   \n",
       "3                      1        2                          2      0  1.524386   \n",
       "4                      2        2                          2      1  0.904290   \n",
       "\n",
       "   Telephone  Foreign  \n",
       "0          1        1  \n",
       "1          0        1  \n",
       "2          0        1  \n",
       "3          0        1  \n",
       "4          0        1  "
      ]
     },
     "execution_count": 51,
     "metadata": {},
     "output_type": "execute_result"
    }
   ],
   "source": [
    "tabHot.head()"
   ]
  },
  {
   "cell_type": "code",
   "execution_count": 52,
   "metadata": {
    "collapsed": true
   },
   "outputs": [],
   "source": [
    "tabHot = pandas.concat([tabHot.drop('GenderInfo', axis=1), pandas.get_dummies(tabHot['GenderInfo'])], axis=1)"
   ]
  },
  {
   "cell_type": "code",
   "execution_count": 53,
   "metadata": {
    "collapsed": true
   },
   "outputs": [],
   "source": [
    "yHot = tabHot.Class\n",
    "XHot = tabHot.drop('Class', axis=1)"
   ]
  },
  {
   "cell_type": "code",
   "execution_count": 54,
   "metadata": {
    "collapsed": false
   },
   "outputs": [
    {
     "data": {
      "text/html": [
       "<div>\n",
       "<table border=\"1\" class=\"dataframe\">\n",
       "  <thead>\n",
       "    <tr style=\"text-align: right;\">\n",
       "      <th></th>\n",
       "      <th>Duration</th>\n",
       "      <th>CreditHistory</th>\n",
       "      <th>Employment</th>\n",
       "      <th>Guarantors</th>\n",
       "      <th>Age</th>\n",
       "      <th>NumberOfCreditsInBank</th>\n",
       "      <th>JobInfo</th>\n",
       "      <th>NumberOfPeopleBeingLiable</th>\n",
       "      <th>Val</th>\n",
       "      <th>Telephone</th>\n",
       "      <th>Foreign</th>\n",
       "      <th>A91</th>\n",
       "      <th>A92</th>\n",
       "      <th>A93</th>\n",
       "      <th>A94</th>\n",
       "    </tr>\n",
       "  </thead>\n",
       "  <tbody>\n",
       "    <tr>\n",
       "      <th>0</th>\n",
       "      <td>0.333333</td>\n",
       "      <td>-2</td>\n",
       "      <td>4</td>\n",
       "      <td>0</td>\n",
       "      <td>67</td>\n",
       "      <td>2</td>\n",
       "      <td>2</td>\n",
       "      <td>1</td>\n",
       "      <td>-0.933434</td>\n",
       "      <td>1</td>\n",
       "      <td>1</td>\n",
       "      <td>0</td>\n",
       "      <td>0</td>\n",
       "      <td>1</td>\n",
       "      <td>0</td>\n",
       "    </tr>\n",
       "    <tr>\n",
       "      <th>1</th>\n",
       "      <td>2.666667</td>\n",
       "      <td>1</td>\n",
       "      <td>2</td>\n",
       "      <td>0</td>\n",
       "      <td>22</td>\n",
       "      <td>1</td>\n",
       "      <td>2</td>\n",
       "      <td>1</td>\n",
       "      <td>1.162464</td>\n",
       "      <td>0</td>\n",
       "      <td>1</td>\n",
       "      <td>0</td>\n",
       "      <td>1</td>\n",
       "      <td>0</td>\n",
       "      <td>0</td>\n",
       "    </tr>\n",
       "    <tr>\n",
       "      <th>2</th>\n",
       "      <td>0.666667</td>\n",
       "      <td>-2</td>\n",
       "      <td>3</td>\n",
       "      <td>0</td>\n",
       "      <td>49</td>\n",
       "      <td>1</td>\n",
       "      <td>1</td>\n",
       "      <td>2</td>\n",
       "      <td>-0.181468</td>\n",
       "      <td>0</td>\n",
       "      <td>1</td>\n",
       "      <td>0</td>\n",
       "      <td>0</td>\n",
       "      <td>1</td>\n",
       "      <td>0</td>\n",
       "    </tr>\n",
       "    <tr>\n",
       "      <th>3</th>\n",
       "      <td>2.333333</td>\n",
       "      <td>1</td>\n",
       "      <td>3</td>\n",
       "      <td>2</td>\n",
       "      <td>45</td>\n",
       "      <td>1</td>\n",
       "      <td>2</td>\n",
       "      <td>2</td>\n",
       "      <td>1.524386</td>\n",
       "      <td>0</td>\n",
       "      <td>1</td>\n",
       "      <td>0</td>\n",
       "      <td>0</td>\n",
       "      <td>1</td>\n",
       "      <td>0</td>\n",
       "    </tr>\n",
       "    <tr>\n",
       "      <th>4</th>\n",
       "      <td>1.333333</td>\n",
       "      <td>-1</td>\n",
       "      <td>2</td>\n",
       "      <td>0</td>\n",
       "      <td>53</td>\n",
       "      <td>2</td>\n",
       "      <td>2</td>\n",
       "      <td>2</td>\n",
       "      <td>0.904290</td>\n",
       "      <td>0</td>\n",
       "      <td>1</td>\n",
       "      <td>0</td>\n",
       "      <td>0</td>\n",
       "      <td>1</td>\n",
       "      <td>0</td>\n",
       "    </tr>\n",
       "  </tbody>\n",
       "</table>\n",
       "</div>"
      ],
      "text/plain": [
       "   Duration  CreditHistory  Employment  Guarantors  Age  \\\n",
       "0  0.333333             -2           4           0   67   \n",
       "1  2.666667              1           2           0   22   \n",
       "2  0.666667             -2           3           0   49   \n",
       "3  2.333333              1           3           2   45   \n",
       "4  1.333333             -1           2           0   53   \n",
       "\n",
       "   NumberOfCreditsInBank  JobInfo  NumberOfPeopleBeingLiable       Val  \\\n",
       "0                      2        2                          1 -0.933434   \n",
       "1                      1        2                          1  1.162464   \n",
       "2                      1        1                          2 -0.181468   \n",
       "3                      1        2                          2  1.524386   \n",
       "4                      2        2                          2  0.904290   \n",
       "\n",
       "   Telephone  Foreign  A91  A92  A93  A94  \n",
       "0          1        1    0    0    1    0  \n",
       "1          0        1    0    1    0    0  \n",
       "2          0        1    0    0    1    0  \n",
       "3          0        1    0    0    1    0  \n",
       "4          0        1    0    0    1    0  "
      ]
     },
     "execution_count": 54,
     "metadata": {},
     "output_type": "execute_result"
    }
   ],
   "source": [
    "XHot.head()"
   ]
  },
  {
   "cell_type": "code",
   "execution_count": 55,
   "metadata": {
    "collapsed": true
   },
   "outputs": [],
   "source": [
    "modelRF = sklearn.ensemble.RandomForestClassifier(random_state=239)"
   ]
  },
  {
   "cell_type": "code",
   "execution_count": 56,
   "metadata": {
    "collapsed": false
   },
   "outputs": [
    {
     "data": {
      "text/plain": [
       "RandomForestClassifier(bootstrap=True, class_weight=None, criterion='gini',\n",
       "            max_depth=None, max_features='auto', max_leaf_nodes=None,\n",
       "            min_impurity_decrease=0.0, min_impurity_split=None,\n",
       "            min_samples_leaf=1, min_samples_split=2,\n",
       "            min_weight_fraction_leaf=0.0, n_estimators=10, n_jobs=1,\n",
       "            oob_score=False, random_state=239, verbose=0, warm_start=False)"
      ]
     },
     "execution_count": 56,
     "metadata": {},
     "output_type": "execute_result"
    }
   ],
   "source": [
    "modelRF.fit(XHot, yHot)"
   ]
  },
  {
   "cell_type": "code",
   "execution_count": 57,
   "metadata": {
    "collapsed": false
   },
   "outputs": [
    {
     "data": {
      "text/plain": [
       "array([ 0.15707319,  0.0884884 ,  0.0752017 ,  0.03009586,  0.19300725,\n",
       "        0.04338827,  0.05102189,  0.02770761,  0.24617713,  0.03310541,\n",
       "        0.00816755,  0.00840536,  0.01684192,  0.01257964,  0.00873879])"
      ]
     },
     "execution_count": 57,
     "metadata": {},
     "output_type": "execute_result"
    }
   ],
   "source": [
    "modelRF.feature_importances_"
   ]
  },
  {
   "cell_type": "code",
   "execution_count": 58,
   "metadata": {
    "collapsed": false
   },
   "outputs": [
    {
     "data": {
      "text/plain": [
       "array(['Duration', 'CreditHistory', 'Employment', 'Guarantors', 'Age',\n",
       "       'NumberOfCreditsInBank', 'JobInfo', 'NumberOfPeopleBeingLiable',\n",
       "       'Val', 'Telephone', 'Foreign', 'A91', 'A92', 'A93', 'A94'], dtype=object)"
      ]
     },
     "execution_count": 58,
     "metadata": {},
     "output_type": "execute_result"
    }
   ],
   "source": [
    "XHot.columns.values"
   ]
  },
  {
   "cell_type": "code",
   "execution_count": 59,
   "metadata": {
    "collapsed": false
   },
   "outputs": [],
   "source": [
    "dat = pandas.DataFrame([modelRF.feature_importances_, XHot.columns.values]).transpose()"
   ]
  },
  {
   "cell_type": "code",
   "execution_count": 60,
   "metadata": {
    "collapsed": false
   },
   "outputs": [],
   "source": [
    "dat[1][8] = 'Price'"
   ]
  },
  {
   "cell_type": "code",
   "execution_count": 61,
   "metadata": {
    "collapsed": false
   },
   "outputs": [
    {
     "data": {
      "text/html": [
       "<div>\n",
       "<table border=\"1\" class=\"dataframe\">\n",
       "  <thead>\n",
       "    <tr style=\"text-align: right;\">\n",
       "      <th></th>\n",
       "      <th>1</th>\n",
       "    </tr>\n",
       "    <tr>\n",
       "      <th>0</th>\n",
       "      <th></th>\n",
       "    </tr>\n",
       "  </thead>\n",
       "  <tbody>\n",
       "    <tr>\n",
       "      <th>0.246177</th>\n",
       "      <td>Price</td>\n",
       "    </tr>\n",
       "    <tr>\n",
       "      <th>0.193007</th>\n",
       "      <td>Age</td>\n",
       "    </tr>\n",
       "    <tr>\n",
       "      <th>0.157073</th>\n",
       "      <td>Duration</td>\n",
       "    </tr>\n",
       "    <tr>\n",
       "      <th>0.088488</th>\n",
       "      <td>CreditHistory</td>\n",
       "    </tr>\n",
       "    <tr>\n",
       "      <th>0.075202</th>\n",
       "      <td>Employment</td>\n",
       "    </tr>\n",
       "    <tr>\n",
       "      <th>0.051022</th>\n",
       "      <td>JobInfo</td>\n",
       "    </tr>\n",
       "    <tr>\n",
       "      <th>0.043388</th>\n",
       "      <td>NumberOfCreditsInBank</td>\n",
       "    </tr>\n",
       "    <tr>\n",
       "      <th>0.033105</th>\n",
       "      <td>Telephone</td>\n",
       "    </tr>\n",
       "    <tr>\n",
       "      <th>0.030096</th>\n",
       "      <td>Guarantors</td>\n",
       "    </tr>\n",
       "    <tr>\n",
       "      <th>0.027708</th>\n",
       "      <td>NumberOfPeopleBeingLiable</td>\n",
       "    </tr>\n",
       "    <tr>\n",
       "      <th>0.016842</th>\n",
       "      <td>A92</td>\n",
       "    </tr>\n",
       "    <tr>\n",
       "      <th>0.012580</th>\n",
       "      <td>A93</td>\n",
       "    </tr>\n",
       "    <tr>\n",
       "      <th>0.008739</th>\n",
       "      <td>A94</td>\n",
       "    </tr>\n",
       "    <tr>\n",
       "      <th>0.008405</th>\n",
       "      <td>A91</td>\n",
       "    </tr>\n",
       "    <tr>\n",
       "      <th>0.008168</th>\n",
       "      <td>Foreign</td>\n",
       "    </tr>\n",
       "  </tbody>\n",
       "</table>\n",
       "</div>"
      ],
      "text/plain": [
       "                                  1\n",
       "0                                  \n",
       "0.246177                      Price\n",
       "0.193007                        Age\n",
       "0.157073                   Duration\n",
       "0.088488              CreditHistory\n",
       "0.075202                 Employment\n",
       "0.051022                    JobInfo\n",
       "0.043388      NumberOfCreditsInBank\n",
       "0.033105                  Telephone\n",
       "0.030096                 Guarantors\n",
       "0.027708  NumberOfPeopleBeingLiable\n",
       "0.016842                        A92\n",
       "0.012580                        A93\n",
       "0.008739                        A94\n",
       "0.008405                        A91\n",
       "0.008168                    Foreign"
      ]
     },
     "execution_count": 61,
     "metadata": {},
     "output_type": "execute_result"
    }
   ],
   "source": [
    "dat.set_index(0).sort_index(ascending = False)"
   ]
  },
  {
   "cell_type": "code",
   "execution_count": 69,
   "metadata": {
    "collapsed": false
   },
   "outputs": [
    {
     "data": {
      "text/plain": [
       "array([  2.66666667,   1.        ,   2.        ,   0.        ,\n",
       "        22.        ,   1.        ,   2.        ,   1.        ,\n",
       "         1.16246424,   0.        ,   1.        ,   0.        ,\n",
       "         1.        ,   0.        ,   0.        ])"
      ]
     },
     "execution_count": 69,
     "metadata": {},
     "output_type": "execute_result"
    }
   ],
   "source": [
    "sklearn.feature_selection.SelectKBest(k='all').fit_transform(XHot, yHot)[1]"
   ]
  },
  {
   "cell_type": "code",
   "execution_count": null,
   "metadata": {
    "collapsed": true
   },
   "outputs": [],
   "source": []
  },
  {
   "cell_type": "code",
   "execution_count": null,
   "metadata": {
    "collapsed": true
   },
   "outputs": [],
   "source": []
  }
 ],
 "metadata": {
  "kernelspec": {
   "display_name": "Python 3",
   "language": "python",
   "name": "python3"
  },
  "language_info": {
   "codemirror_mode": {
    "name": "ipython",
    "version": 3
   },
   "file_extension": ".py",
   "mimetype": "text/x-python",
   "name": "python",
   "nbconvert_exporter": "python",
   "pygments_lexer": "ipython3",
   "version": "3.6.6"
  }
 },
 "nbformat": 4,
 "nbformat_minor": 2
}
