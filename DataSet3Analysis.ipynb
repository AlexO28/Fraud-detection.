{
 "cells": [
  {
   "cell_type": "code",
   "execution_count": 20,
   "metadata": {},
   "outputs": [],
   "source": [
    "import sklearn.model_selection\n",
    "import sklearn.tree\n",
    "import pandas\n",
    "import sklearn.ensemble\n",
    "import sklearn.linear_model\n",
    "import sklearn.svm\n",
    "import xgboost"
   ]
  },
  {
   "cell_type": "code",
   "execution_count": 2,
   "metadata": {},
   "outputs": [],
   "source": [
    "path = 'C:\\\\Users\\\\Alexey.Osipov\\\\Downloads\\\\'\n",
    "tabHot = pandas.read_csv(path + 'HotStartData.csv', sep = ';')\n",
    "tabCold = pandas.read_csv(path + 'ColdStartData.csv', sep = ';')"
   ]
  },
  {
   "cell_type": "code",
   "execution_count": 3,
   "metadata": {},
   "outputs": [],
   "source": [
    "tabHot = pandas.concat([tabHot.drop('GenderInfo', axis=1), pandas.get_dummies(tabHot['GenderInfo'])], axis=1)\n",
    "tabCold = pandas.concat([tabCold.drop('GenderInfo', axis=1), pandas.get_dummies(tabCold['GenderInfo'])], axis=1)"
   ]
  },
  {
   "cell_type": "code",
   "execution_count": 4,
   "metadata": {},
   "outputs": [],
   "source": [
    "yHot = tabHot.Class\n",
    "yCold = tabCold.Class\n",
    "XHot = tabHot.drop('Class', axis=1)\n",
    "XCold = tabCold.drop('Class', axis=1)"
   ]
  },
  {
   "cell_type": "code",
   "execution_count": 5,
   "metadata": {},
   "outputs": [],
   "source": [
    "X_train_Hot, X_test_Hot, y_train_Hot, y_test_Hot = sklearn.model_selection.train_test_split(XHot, yHot, random_state=239)\n",
    "X_train_Cold, X_test_Cold, y_train_Cold, y_test_Cold = sklearn.model_selection.train_test_split(XCold, yCold, random_state=239)"
   ]
  },
  {
   "cell_type": "code",
   "execution_count": 6,
   "metadata": {},
   "outputs": [
    {
     "data": {
      "text/plain": [
       "(     Duration  CreditHistory  Employment  Guarantors  Age  \\\n",
       " 91   0.666667             -2           4           0   54   \n",
       " 436  0.333333              1           3           0   23   \n",
       " 22   0.555556             -2           1           0   48   \n",
       " 237  1.166667              1           4           0   61   \n",
       " 848  0.500000              1           3           0   59   \n",
       " \n",
       "      NumberOfCreditsInBank  JobInfo  NumberOfPeopleBeingLiable       Val  \\\n",
       " 91                       1        2                          1 -0.692948   \n",
       " 436                      1        1                          1 -1.669664   \n",
       " 22                       2        1                          2 -0.095321   \n",
       " 237                      2        1                          1  0.176217   \n",
       " 848                      1        2                          1 -0.734750   \n",
       " \n",
       "      Telephone  Foreign  A91  A92  A93  A94  \n",
       " 91           0        1    0    0    1    0  \n",
       " 436          0        1    0    0    0    1  \n",
       " 22           0        0    0    0    1    0  \n",
       " 237          0        1    1    0    0    0  \n",
       " 848          0        1    0    0    1    0  , 91     0\n",
       " 436    0\n",
       " 22     0\n",
       " 237    1\n",
       " 848    0\n",
       " Name: Class, dtype: int64)"
      ]
     },
     "execution_count": 6,
     "metadata": {},
     "output_type": "execute_result"
    }
   ],
   "source": [
    "X_train_Hot.head(), y_train_Hot.head()"
   ]
  },
  {
   "cell_type": "code",
   "execution_count": 24,
   "metadata": {},
   "outputs": [],
   "source": [
    "#sklearn.model_selection.GridSearchCV(sklearn.tree.DecisionTreeClassifier(random_state=239), param_grid=[]\n",
    "#                                     scoring=sklearn.metrics.average_precision_score, cv = 3)"
   ]
  },
  {
   "cell_type": "code",
   "execution_count": 7,
   "metadata": {},
   "outputs": [
    {
     "data": {
      "text/plain": [
       "DecisionTreeClassifier(class_weight=None, criterion='gini', max_depth=None,\n",
       "            max_features=None, max_leaf_nodes=None,\n",
       "            min_impurity_decrease=0.0, min_impurity_split=None,\n",
       "            min_samples_leaf=1, min_samples_split=2,\n",
       "            min_weight_fraction_leaf=0.0, presort=False, random_state=239,\n",
       "            splitter='best')"
      ]
     },
     "execution_count": 7,
     "metadata": {},
     "output_type": "execute_result"
    }
   ],
   "source": [
    "model = sklearn.tree.DecisionTreeClassifier(random_state=239)\n",
    "model.fit(X_train_Hot, y_train_Hot)"
   ]
  },
  {
   "cell_type": "code",
   "execution_count": 46,
   "metadata": {},
   "outputs": [],
   "source": [
    "def modelFit(model, X_train, y_train):\n",
    "    random_states = [128, 239, 28]\n",
    "    stat_prec = 0\n",
    "    stat_brier = 0\n",
    "    stat_acc = 0\n",
    "    for random_state in random_states:\n",
    "        X_1, X_2, y_1, y_2 = sklearn.model_selection.train_test_split(X_train, y_train, random_state = random_state)\n",
    "        model.fit(X_1, y_1)\n",
    "        stat_prec += sklearn.metrics.average_precision_score(model.predict(X_2), y_2)\n",
    "        stat_brier += sklearn.metrics.brier_score_loss(pandas.DataFrame(model.predict_proba(X_2))[1], y_2)\n",
    "        stat_acc += sklearn.metrics.accuracy_score(model.predict(X_2), y_2)\n",
    "    return stat_prec/3, stat_acc/3, stat_brier/3"
   ]
  },
  {
   "cell_type": "code",
   "execution_count": 47,
   "metadata": {},
   "outputs": [],
   "source": [
    "def modelCheck(model, X_train, y_train, X_test, y_test):\n",
    "    model.fit(X_train, y_train)\n",
    "    values = model.predict(X_test)\n",
    "    probs = pandas.DataFrame(model.predict_proba(X_test))\n",
    "    vals = model.predict(X_test)\n",
    "    return [sklearn.metrics.average_precision_score(y_test, vals),\n",
    "    sklearn.metrics.accuracy_score(y_test, vals),\n",
    "    sklearn.metrics.brier_score_loss(y_test, probs[1])]"
   ]
  },
  {
   "cell_type": "code",
   "execution_count": 105,
   "metadata": {},
   "outputs": [
    {
     "name": "stdout",
     "output_type": "stream",
     "text": [
      "750\n"
     ]
    }
   ],
   "source": [
    "print(y_train_Hot.count())"
   ]
  },
  {
   "cell_type": "code",
   "execution_count": 83,
   "metadata": {},
   "outputs": [
    {
     "name": "stdout",
     "output_type": "stream",
     "text": [
      "750\n",
      "750\n",
      "[0.304, 0.696, 0.21159999999999995]\n",
      "[0.288, 0.712, 0.20519999999999994]\n"
     ]
    }
   ],
   "source": [
    "#estimate baseline\n",
    "baselineTrain = []\n",
    "print(y_train_Hot.count())\n",
    "for i in range(0, y_train_Hot.count()):\n",
    "    baselineTrain.append(0)\n",
    "baselineTest = []\n",
    "for i in range(0, y_test_Hot.count()):\n",
    "    baselineTest.append(0)\n",
    "baselineTrainprobs = []\n",
    "print(y_train_Hot.count())\n",
    "for i in range(0, y_train_Hot.count()):\n",
    "    baselineTrainprobs.append(0.3)\n",
    "baselineTestprobs = []\n",
    "for i in range(0, y_test_Hot.count()):\n",
    "    baselineTestprobs.append(0.3)\n",
    "\n",
    "print([sklearn.metrics.average_precision_score(y_train_Hot, baselineTrain),\n",
    "    sklearn.metrics.accuracy_score(y_train_Hot, baselineTrain),\n",
    "    sklearn.metrics.brier_score_loss(y_train_Hot, baselineTrainprobs)])\n",
    "print([sklearn.metrics.average_precision_score(y_test_Hot, baselineTest),\n",
    "    sklearn.metrics.accuracy_score(y_test_Hot, baselineTest),\n",
    "    sklearn.metrics.brier_score_loss(y_test_Hot, baselineTestprobs)])"
   ]
  },
  {
   "cell_type": "code",
   "execution_count": 48,
   "metadata": {},
   "outputs": [
    {
     "name": "stdout",
     "output_type": "stream",
     "text": [
      "(0.3473673350477533, 0.6365248226950354, 0.36347517730496454)\n",
      "[0.31444579945799456, 0.616, 0.384]\n"
     ]
    }
   ],
   "source": [
    "#trees only\n",
    "modelTree = sklearn.tree.DecisionTreeClassifier(random_state=239)\n",
    "print(modelFit(modelTree, X_train_Hot, y_train_Hot))\n",
    "print(modelCheck(modelTree, X_train_Hot, y_train_Hot, X_test_Hot, y_test_Hot))"
   ]
  },
  {
   "cell_type": "code",
   "execution_count": 33,
   "metadata": {},
   "outputs": [
    {
     "data": {
      "text/plain": [
       "0.3005570005626001"
      ]
     },
     "execution_count": 33,
     "metadata": {},
     "output_type": "execute_result"
    }
   ],
   "source": [
    "model = sklearn.tree.DecisionTreeClassifier(max_depth=7, random_state=239)\n",
    "modelFit(model, X_train_Hot, y_train_Hot)"
   ]
  },
  {
   "cell_type": "code",
   "execution_count": 34,
   "metadata": {},
   "outputs": [
    {
     "data": {
      "text/plain": [
       "[0.31599999999999995, 0.676, 0.25160651115054844]"
      ]
     },
     "execution_count": 34,
     "metadata": {},
     "output_type": "execute_result"
    }
   ],
   "source": [
    "modelCheck(model, X_train_Hot, y_train_Hot, X_test_Hot, y_test_Hot)"
   ]
  },
  {
   "cell_type": "code",
   "execution_count": 140,
   "metadata": {},
   "outputs": [
    {
     "name": "stdout",
     "output_type": "stream",
     "text": [
      "(0.040454503314328094, 0.6737588652482268, 0.31028368794326244)\n",
      "[0.330074074074074, 0.728, 0.18871725078334897]\n"
     ]
    }
   ],
   "source": [
    "#RF only\n",
    "modelRF = sklearn.ensemble.RandomForestClassifier(n_estimators=11,random_state=239, max_depth=20,min_samples_leaf=4, min_samples_split=0.1)\n",
    "print(modelFit(modelRF, X_train_Hot, y_train_Hot))\n",
    "print(modelCheck(modelRF, X_train_Hot, y_train_Hot, X_test_Hot, y_test_Hot))"
   ]
  },
  {
   "cell_type": "code",
   "execution_count": 141,
   "metadata": {},
   "outputs": [
    {
     "name": "stdout",
     "output_type": "stream",
     "text": [
      "(0.05808236325549634, 0.6755319148936171, 0.31560283687943264)\n",
      "[0.2857361111111111, 0.688, 0.19011163636956832]\n"
     ]
    }
   ],
   "source": [
    "modelRFCold = sklearn.ensemble.RandomForestClassifier(n_estimators=11,random_state=239, max_depth=20,min_samples_leaf=4, min_samples_split=0.1)\n",
    "print(modelFit(modelRF, X_train_Cold, y_train_Cold))\n",
    "print(modelCheck(modelRF, X_train_Cold, y_train_Cold, X_test_Cold, y_test_Cold))"
   ]
  },
  {
   "cell_type": "code",
   "execution_count": 144,
   "metadata": {},
   "outputs": [
    {
     "data": {
      "text/plain": [
       "(array([0.23820197, 0.14917393, 0.02341734, 0.17343024, 0.01618086,\n",
       "        0.05331723, 0.04089416, 0.19852072, 0.03420262, 0.01826004,\n",
       "        0.02292333, 0.02485296, 0.00462944, 0.00199515]),\n",
       " Index(['Duration', 'CreditHistory', 'Employment', 'Guarantors', 'Age',\n",
       "        'NumberOfCreditsInBank', 'JobInfo', 'NumberOfPeopleBeingLiable', 'Val',\n",
       "        'Telephone', 'Foreign', 'A91', 'A92', 'A93', 'A94'],\n",
       "       dtype='object'))"
      ]
     },
     "execution_count": 144,
     "metadata": {},
     "output_type": "execute_result"
    }
   ],
   "source": [
    "(modelRF.feature_importances_), X_train_Hot.columns"
   ]
  },
  {
   "cell_type": "code",
   "execution_count": 106,
   "metadata": {},
   "outputs": [],
   "source": [
    "from sklearn.tree import export_graphviz"
   ]
  },
  {
   "cell_type": "code",
   "execution_count": 108,
   "metadata": {},
   "outputs": [],
   "source": [
    "export_graphviz((modelRF.estimators_[0]), out_file = 'tree0.dot', rounded = True, precision = 1)"
   ]
  },
  {
   "cell_type": "code",
   "execution_count": 103,
   "metadata": {},
   "outputs": [
    {
     "data": {
      "text/plain": [
       "<bound method BaseForest.decision_path of RandomForestClassifier(bootstrap=True, class_weight=None, criterion='gini',\n",
       "            max_depth=20, max_features='auto', max_leaf_nodes=None,\n",
       "            min_impurity_decrease=0.0, min_impurity_split=None,\n",
       "            min_samples_leaf=2, min_samples_split=2,\n",
       "            min_weight_fraction_leaf=0.0, n_estimators=11, n_jobs=1,\n",
       "            oob_score=False, random_state=239, verbose=0, warm_start=False)>"
      ]
     },
     "execution_count": 103,
     "metadata": {},
     "output_type": "execute_result"
    }
   ],
   "source": [
    "modelRF.decision_path"
   ]
  },
  {
   "cell_type": "code",
   "execution_count": 36,
   "metadata": {},
   "outputs": [
    {
     "data": {
      "text/plain": [
       "0.011916350464535696"
      ]
     },
     "execution_count": 36,
     "metadata": {},
     "output_type": "execute_result"
    }
   ],
   "source": [
    "model2 = sklearn.ensemble.RandomForestClassifier(max_depth=3, n_estimators=100, random_state=239)\n",
    "modelFit(model2, X_train_Hot, y_train_Hot)"
   ]
  },
  {
   "cell_type": "code",
   "execution_count": 37,
   "metadata": {},
   "outputs": [
    {
     "data": {
      "text/plain": [
       "[0.2911111111111111, 0.708, 0.18865254085285665]"
      ]
     },
     "execution_count": 37,
     "metadata": {},
     "output_type": "execute_result"
    }
   ],
   "source": [
    "modelCheck(model2, X_train_Hot, y_train_Hot, X_test_Hot, y_test_Hot)"
   ]
  },
  {
   "cell_type": "code",
   "execution_count": 50,
   "metadata": {},
   "outputs": [
    {
     "name": "stdout",
     "output_type": "stream",
     "text": [
      "(0.11686088753256045, 0.6843971631205674, 0.3120567375886525)\n",
      "[0.33960714285714283, 0.72, 0.1830218356967652]\n"
     ]
    }
   ],
   "source": [
    "model3 = sklearn.linear_model.LogisticRegression(random_state=239)\n",
    "print(modelFit(model3, X_train_Hot, y_train_Hot))\n",
    "print(modelCheck(model3, X_train_Hot, y_train_Hot, X_test_Hot, y_test_Hot))"
   ]
  },
  {
   "cell_type": "code",
   "execution_count": 16,
   "metadata": {},
   "outputs": [
    {
     "data": {
      "text/plain": [
       "[0.3367008547008547, 0.72, 0.18305454945530766]"
      ]
     },
     "execution_count": 16,
     "metadata": {},
     "output_type": "execute_result"
    }
   ],
   "source": []
  },
  {
   "cell_type": "code",
   "execution_count": 51,
   "metadata": {},
   "outputs": [
    {
     "name": "stdout",
     "output_type": "stream",
     "text": [
      "(0.08759938963765174, 0.6861702127659575, 0.3120567375886525)\n",
      "[0.3094545454545454, 0.716, 0.1975302965049188]\n"
     ]
    }
   ],
   "source": [
    "model4 = sklearn.svm.SVC(probability=True, random_state=239)\n",
    "print(modelFit(model4, X_train_Hot, y_train_Hot))\n",
    "print(modelCheck(model4, X_train_Hot, y_train_Hot, X_test_Hot, y_test_Hot))"
   ]
  },
  {
   "cell_type": "code",
   "execution_count": 19,
   "metadata": {},
   "outputs": [
    {
     "data": {
      "text/plain": [
       "[0.3094545454545454, 0.716, 0.1975302965049188]"
      ]
     },
     "execution_count": 19,
     "metadata": {},
     "output_type": "execute_result"
    }
   ],
   "source": []
  },
  {
   "cell_type": "code",
   "execution_count": 165,
   "metadata": {},
   "outputs": [
    {
     "data": {
      "text/plain": [
       "(array([0.18204604, 0.14207239, 0.09648295, 0.06606861, 0.20870659,\n",
       "        0.        , 0.01841331, 0.03387637, 0.23740927, 0.        ,\n",
       "        0.        , 0.        , 0.        , 0.01492447, 0.        ]),\n",
       " Index(['Duration', 'CreditHistory', 'Employment', 'Guarantors', 'Age',\n",
       "        'NumberOfCreditsInBank', 'JobInfo', 'NumberOfPeopleBeingLiable', 'Val',\n",
       "        'Telephone', 'Foreign', 'A91', 'A92', 'A93', 'A94'],\n",
       "       dtype='object'))"
      ]
     },
     "execution_count": 165,
     "metadata": {},
     "output_type": "execute_result"
    }
   ],
   "source": [
    "model.feature_importances_, X_train_Hot.columns"
   ]
  },
  {
   "cell_type": "code",
   "execution_count": 159,
   "metadata": {},
   "outputs": [
    {
     "data": {
      "text/plain": [
       "array([ 1,  2,  3,  4,  5,  6, -1,  8, -1, -1, 11, -1, -1, 14, 15, 16, -1,\n",
       "       -1, 19, -1, -1, 22, 23, -1, -1, 26, -1, -1, -1, 30, -1, 32, 33, 34,\n",
       "       -1, 36, -1, -1, -1, 40, -1, -1, 43, 44, 45, -1, 47, 48, 49, -1, -1,\n",
       "       52, -1, -1, 55, 56, -1, -1, 59, -1, -1, 62, -1, 64, -1, 66, 67, -1,\n",
       "       -1, -1, 71, -1, 73, -1, -1], dtype=int64)"
      ]
     },
     "execution_count": 159,
     "metadata": {},
     "output_type": "execute_result"
    }
   ],
   "source": [
    "model.tree_.children_left"
   ]
  },
  {
   "cell_type": "code",
   "execution_count": 52,
   "metadata": {},
   "outputs": [
    {
     "name": "stderr",
     "output_type": "stream",
     "text": [
      "C:\\Users\\Alexey.Osipov\\AppData\\Local\\Continuum\\anaconda3\\lib\\site-packages\\sklearn\\preprocessing\\label.py:151: DeprecationWarning: The truth value of an empty array is ambiguous. Returning False, but in future this will result in an error. Use `array.size > 0` to check that an array is not empty.\n",
      "  if diff:\n",
      "C:\\Users\\Alexey.Osipov\\AppData\\Local\\Continuum\\anaconda3\\lib\\site-packages\\sklearn\\preprocessing\\label.py:151: DeprecationWarning: The truth value of an empty array is ambiguous. Returning False, but in future this will result in an error. Use `array.size > 0` to check that an array is not empty.\n",
      "  if diff:\n",
      "C:\\Users\\Alexey.Osipov\\AppData\\Local\\Continuum\\anaconda3\\lib\\site-packages\\sklearn\\preprocessing\\label.py:151: DeprecationWarning: The truth value of an empty array is ambiguous. Returning False, but in future this will result in an error. Use `array.size > 0` to check that an array is not empty.\n",
      "  if diff:\n",
      "C:\\Users\\Alexey.Osipov\\AppData\\Local\\Continuum\\anaconda3\\lib\\site-packages\\sklearn\\preprocessing\\label.py:151: DeprecationWarning: The truth value of an empty array is ambiguous. Returning False, but in future this will result in an error. Use `array.size > 0` to check that an array is not empty.\n",
      "  if diff:\n",
      "C:\\Users\\Alexey.Osipov\\AppData\\Local\\Continuum\\anaconda3\\lib\\site-packages\\sklearn\\preprocessing\\label.py:151: DeprecationWarning: The truth value of an empty array is ambiguous. Returning False, but in future this will result in an error. Use `array.size > 0` to check that an array is not empty.\n",
      "  if diff:\n",
      "C:\\Users\\Alexey.Osipov\\AppData\\Local\\Continuum\\anaconda3\\lib\\site-packages\\sklearn\\preprocessing\\label.py:151: DeprecationWarning: The truth value of an empty array is ambiguous. Returning False, but in future this will result in an error. Use `array.size > 0` to check that an array is not empty.\n",
      "  if diff:\n",
      "C:\\Users\\Alexey.Osipov\\AppData\\Local\\Continuum\\anaconda3\\lib\\site-packages\\sklearn\\preprocessing\\label.py:151: DeprecationWarning: The truth value of an empty array is ambiguous. Returning False, but in future this will result in an error. Use `array.size > 0` to check that an array is not empty.\n",
      "  if diff:\n"
     ]
    },
    {
     "name": "stdout",
     "output_type": "stream",
     "text": [
      "(0.02715254738617275, 0.6808510638297873, 0.31560283687943264)\n",
      "[0.2966913580246913, 0.708, 0.20155184223576766]\n"
     ]
    },
    {
     "name": "stderr",
     "output_type": "stream",
     "text": [
      "C:\\Users\\Alexey.Osipov\\AppData\\Local\\Continuum\\anaconda3\\lib\\site-packages\\sklearn\\preprocessing\\label.py:151: DeprecationWarning: The truth value of an empty array is ambiguous. Returning False, but in future this will result in an error. Use `array.size > 0` to check that an array is not empty.\n",
      "  if diff:\n"
     ]
    }
   ],
   "source": [
    "modelnew = xgboost.XGBClassifier(max_depth=2, random_state=239, learning_rate=0.01, reg_lambda=5)\n",
    "print(modelFit(modelnew, X_train_Hot, y_train_Hot))\n",
    "print(modelCheck(modelnew, X_train_Hot, y_train_Hot, X_test_Hot, y_test_Hot))"
   ]
  },
  {
   "cell_type": "code",
   "execution_count": 26,
   "metadata": {},
   "outputs": [
    {
     "name": "stderr",
     "output_type": "stream",
     "text": [
      "C:\\Users\\Alexey.Osipov\\AppData\\Local\\Continuum\\anaconda3\\lib\\site-packages\\sklearn\\preprocessing\\label.py:151: DeprecationWarning: The truth value of an empty array is ambiguous. Returning False, but in future this will result in an error. Use `array.size > 0` to check that an array is not empty.\n",
      "  if diff:\n",
      "C:\\Users\\Alexey.Osipov\\AppData\\Local\\Continuum\\anaconda3\\lib\\site-packages\\sklearn\\preprocessing\\label.py:151: DeprecationWarning: The truth value of an empty array is ambiguous. Returning False, but in future this will result in an error. Use `array.size > 0` to check that an array is not empty.\n",
      "  if diff:\n"
     ]
    },
    {
     "data": {
      "text/plain": [
       "[0.2966913580246913, 0.708, 0.20155184223576766]"
      ]
     },
     "execution_count": 26,
     "metadata": {},
     "output_type": "execute_result"
    }
   ],
   "source": [
    "modelnew = xgboost.XGBClassifier(max_depth=2, random_state=239, learning_rate=0.01, reg_lambda=5)\n",
    "modelCheck(modelnew, X_train_Hot, y_train_Hot, X_test_Hot, y_test_Hot)"
   ]
  },
  {
   "cell_type": "code",
   "execution_count": 131,
   "metadata": {},
   "outputs": [
    {
     "data": {
      "text/html": [
       "<div>\n",
       "<style scoped>\n",
       "    .dataframe tbody tr th:only-of-type {\n",
       "        vertical-align: middle;\n",
       "    }\n",
       "\n",
       "    .dataframe tbody tr th {\n",
       "        vertical-align: top;\n",
       "    }\n",
       "\n",
       "    .dataframe thead th {\n",
       "        text-align: right;\n",
       "    }\n",
       "</style>\n",
       "<table border=\"1\" class=\"dataframe\">\n",
       "  <thead>\n",
       "    <tr style=\"text-align: right;\">\n",
       "      <th></th>\n",
       "      <th>Duration</th>\n",
       "      <th>CreditHistory</th>\n",
       "      <th>Employment</th>\n",
       "      <th>Guarantors</th>\n",
       "      <th>Age</th>\n",
       "      <th>NumberOfCreditsInBank</th>\n",
       "      <th>JobInfo</th>\n",
       "      <th>NumberOfPeopleBeingLiable</th>\n",
       "      <th>Val</th>\n",
       "      <th>Telephone</th>\n",
       "      <th>Foreign</th>\n",
       "      <th>A91</th>\n",
       "      <th>A92</th>\n",
       "      <th>A93</th>\n",
       "      <th>A94</th>\n",
       "    </tr>\n",
       "  </thead>\n",
       "  <tbody>\n",
       "    <tr>\n",
       "      <th>91</th>\n",
       "      <td>0.666667</td>\n",
       "      <td>-2</td>\n",
       "      <td>4</td>\n",
       "      <td>0</td>\n",
       "      <td>54</td>\n",
       "      <td>1</td>\n",
       "      <td>2</td>\n",
       "      <td>1</td>\n",
       "      <td>-0.692948</td>\n",
       "      <td>0</td>\n",
       "      <td>1</td>\n",
       "      <td>0</td>\n",
       "      <td>0</td>\n",
       "      <td>1</td>\n",
       "      <td>0</td>\n",
       "    </tr>\n",
       "    <tr>\n",
       "      <th>436</th>\n",
       "      <td>0.333333</td>\n",
       "      <td>1</td>\n",
       "      <td>3</td>\n",
       "      <td>0</td>\n",
       "      <td>23</td>\n",
       "      <td>1</td>\n",
       "      <td>1</td>\n",
       "      <td>1</td>\n",
       "      <td>-1.669664</td>\n",
       "      <td>0</td>\n",
       "      <td>1</td>\n",
       "      <td>0</td>\n",
       "      <td>0</td>\n",
       "      <td>0</td>\n",
       "      <td>1</td>\n",
       "    </tr>\n",
       "    <tr>\n",
       "      <th>22</th>\n",
       "      <td>0.555556</td>\n",
       "      <td>-2</td>\n",
       "      <td>1</td>\n",
       "      <td>0</td>\n",
       "      <td>48</td>\n",
       "      <td>2</td>\n",
       "      <td>1</td>\n",
       "      <td>2</td>\n",
       "      <td>-0.095321</td>\n",
       "      <td>0</td>\n",
       "      <td>0</td>\n",
       "      <td>0</td>\n",
       "      <td>0</td>\n",
       "      <td>1</td>\n",
       "      <td>0</td>\n",
       "    </tr>\n",
       "    <tr>\n",
       "      <th>237</th>\n",
       "      <td>1.166667</td>\n",
       "      <td>1</td>\n",
       "      <td>4</td>\n",
       "      <td>0</td>\n",
       "      <td>61</td>\n",
       "      <td>2</td>\n",
       "      <td>1</td>\n",
       "      <td>1</td>\n",
       "      <td>0.176217</td>\n",
       "      <td>0</td>\n",
       "      <td>1</td>\n",
       "      <td>1</td>\n",
       "      <td>0</td>\n",
       "      <td>0</td>\n",
       "      <td>0</td>\n",
       "    </tr>\n",
       "    <tr>\n",
       "      <th>848</th>\n",
       "      <td>0.500000</td>\n",
       "      <td>1</td>\n",
       "      <td>3</td>\n",
       "      <td>0</td>\n",
       "      <td>59</td>\n",
       "      <td>1</td>\n",
       "      <td>2</td>\n",
       "      <td>1</td>\n",
       "      <td>-0.734750</td>\n",
       "      <td>0</td>\n",
       "      <td>1</td>\n",
       "      <td>0</td>\n",
       "      <td>0</td>\n",
       "      <td>1</td>\n",
       "      <td>0</td>\n",
       "    </tr>\n",
       "  </tbody>\n",
       "</table>\n",
       "</div>"
      ],
      "text/plain": [
       "     Duration  CreditHistory  Employment  Guarantors  Age  \\\n",
       "91   0.666667             -2           4           0   54   \n",
       "436  0.333333              1           3           0   23   \n",
       "22   0.555556             -2           1           0   48   \n",
       "237  1.166667              1           4           0   61   \n",
       "848  0.500000              1           3           0   59   \n",
       "\n",
       "     NumberOfCreditsInBank  JobInfo  NumberOfPeopleBeingLiable       Val  \\\n",
       "91                       1        2                          1 -0.692948   \n",
       "436                      1        1                          1 -1.669664   \n",
       "22                       2        1                          2 -0.095321   \n",
       "237                      2        1                          1  0.176217   \n",
       "848                      1        2                          1 -0.734750   \n",
       "\n",
       "     Telephone  Foreign  A91  A92  A93  A94  \n",
       "91           0        1    0    0    1    0  \n",
       "436          0        1    0    0    0    1  \n",
       "22           0        0    0    0    1    0  \n",
       "237          0        1    1    0    0    0  \n",
       "848          0        1    0    0    1    0  "
      ]
     },
     "execution_count": 131,
     "metadata": {},
     "output_type": "execute_result"
    }
   ],
   "source": [
    "X_train_Hot.head()"
   ]
  },
  {
   "cell_type": "code",
   "execution_count": 143,
   "metadata": {},
   "outputs": [],
   "source": [
    "#we try to delete:\n",
    "#(array([0.23820197, 0.14917393, 0.02341734, 0.17343024, 0.01618086,\n",
    "#        0.05331723, 0.04089416, 0.19852072, 0.03420262, 0.01826004,\n",
    "#        0.02292333, 0.02485296, 0.00462944, 0.00199515]),\n",
    "# Index(['Duration', 'CreditHistory', 'Employment', 'Guarantors', 'Age',\n",
    "#        'NumberOfCreditsInBank', 'JobInfo', 'NumberOfPeopleBeingLiable', 'Val',\n",
    "#        'Telephone', 'Foreign', 'A91', 'A92', 'A93', 'A94'],\n",
    "#       dtype='object'))\n",
    "#gender info -> delete\n",
    "#Foreign -> delete\n",
    "#Employment -> delete\n"
   ]
  },
  {
   "cell_type": "code",
   "execution_count": 159,
   "metadata": {},
   "outputs": [
    {
     "ename": "KeyError",
     "evalue": "\"labels ['A91'] not contained in axis\"",
     "output_type": "error",
     "traceback": [
      "\u001b[1;31m---------------------------------------------------------------------------\u001b[0m",
      "\u001b[1;31mKeyError\u001b[0m                                  Traceback (most recent call last)",
      "\u001b[1;32m<ipython-input-159-48579b1c9c14>\u001b[0m in \u001b[0;36m<module>\u001b[1;34m()\u001b[0m\n\u001b[1;32m----> 1\u001b[1;33m \u001b[0mX_train_Hot\u001b[0m\u001b[1;33m=\u001b[0m\u001b[0mX_train_Hot\u001b[0m\u001b[1;33m.\u001b[0m\u001b[0mdrop\u001b[0m\u001b[1;33m(\u001b[0m\u001b[1;34m'A91'\u001b[0m\u001b[1;33m,\u001b[0m \u001b[0maxis\u001b[0m\u001b[1;33m=\u001b[0m\u001b[1;36m1\u001b[0m\u001b[1;33m)\u001b[0m\u001b[1;33m\u001b[0m\u001b[0m\n\u001b[0m\u001b[0;32m      2\u001b[0m \u001b[0mX_train_Hot\u001b[0m\u001b[1;33m=\u001b[0m\u001b[0mX_train_Hot\u001b[0m\u001b[1;33m.\u001b[0m\u001b[0mdrop\u001b[0m\u001b[1;33m(\u001b[0m\u001b[1;34m'A92'\u001b[0m\u001b[1;33m,\u001b[0m  \u001b[0maxis\u001b[0m\u001b[1;33m=\u001b[0m\u001b[1;36m1\u001b[0m\u001b[1;33m)\u001b[0m\u001b[1;33m\u001b[0m\u001b[0m\n\u001b[0;32m      3\u001b[0m \u001b[0mX_train_Hot\u001b[0m\u001b[1;33m=\u001b[0m\u001b[0mX_train_Hot\u001b[0m\u001b[1;33m.\u001b[0m\u001b[0mdrop\u001b[0m\u001b[1;33m(\u001b[0m\u001b[1;34m'A93'\u001b[0m\u001b[1;33m,\u001b[0m  \u001b[0maxis\u001b[0m\u001b[1;33m=\u001b[0m\u001b[1;36m1\u001b[0m\u001b[1;33m)\u001b[0m\u001b[1;33m\u001b[0m\u001b[0m\n\u001b[0;32m      4\u001b[0m \u001b[0mX_train_Hot\u001b[0m\u001b[1;33m=\u001b[0m\u001b[0mX_train_Hot\u001b[0m\u001b[1;33m.\u001b[0m\u001b[0mdrop\u001b[0m\u001b[1;33m(\u001b[0m\u001b[1;34m'A94'\u001b[0m\u001b[1;33m,\u001b[0m  \u001b[0maxis\u001b[0m\u001b[1;33m=\u001b[0m\u001b[1;36m1\u001b[0m\u001b[1;33m)\u001b[0m\u001b[1;33m\u001b[0m\u001b[0m\n\u001b[0;32m      5\u001b[0m \u001b[0mX_train_Hot\u001b[0m\u001b[1;33m=\u001b[0m\u001b[0mX_train_Hot\u001b[0m\u001b[1;33m.\u001b[0m\u001b[0mdrop\u001b[0m\u001b[1;33m(\u001b[0m\u001b[1;34m'Foreign'\u001b[0m\u001b[1;33m,\u001b[0m  \u001b[0maxis\u001b[0m\u001b[1;33m=\u001b[0m\u001b[1;36m1\u001b[0m\u001b[1;33m)\u001b[0m\u001b[1;33m\u001b[0m\u001b[0m\n",
      "\u001b[1;32m~\\AppData\\Local\\Continuum\\anaconda3\\lib\\site-packages\\pandas\\core\\frame.py\u001b[0m in \u001b[0;36mdrop\u001b[1;34m(self, labels, axis, index, columns, level, inplace, errors)\u001b[0m\n\u001b[0;32m   3692\u001b[0m                                            \u001b[0mindex\u001b[0m\u001b[1;33m=\u001b[0m\u001b[0mindex\u001b[0m\u001b[1;33m,\u001b[0m \u001b[0mcolumns\u001b[0m\u001b[1;33m=\u001b[0m\u001b[0mcolumns\u001b[0m\u001b[1;33m,\u001b[0m\u001b[1;33m\u001b[0m\u001b[0m\n\u001b[0;32m   3693\u001b[0m                                            \u001b[0mlevel\u001b[0m\u001b[1;33m=\u001b[0m\u001b[0mlevel\u001b[0m\u001b[1;33m,\u001b[0m \u001b[0minplace\u001b[0m\u001b[1;33m=\u001b[0m\u001b[0minplace\u001b[0m\u001b[1;33m,\u001b[0m\u001b[1;33m\u001b[0m\u001b[0m\n\u001b[1;32m-> 3694\u001b[1;33m                                            errors=errors)\n\u001b[0m\u001b[0;32m   3695\u001b[0m \u001b[1;33m\u001b[0m\u001b[0m\n\u001b[0;32m   3696\u001b[0m     @rewrite_axis_style_signature('mapper', [('copy', True),\n",
      "\u001b[1;32m~\\AppData\\Local\\Continuum\\anaconda3\\lib\\site-packages\\pandas\\core\\generic.py\u001b[0m in \u001b[0;36mdrop\u001b[1;34m(self, labels, axis, index, columns, level, inplace, errors)\u001b[0m\n\u001b[0;32m   3106\u001b[0m         \u001b[1;32mfor\u001b[0m \u001b[0maxis\u001b[0m\u001b[1;33m,\u001b[0m \u001b[0mlabels\u001b[0m \u001b[1;32min\u001b[0m \u001b[0maxes\u001b[0m\u001b[1;33m.\u001b[0m\u001b[0mitems\u001b[0m\u001b[1;33m(\u001b[0m\u001b[1;33m)\u001b[0m\u001b[1;33m:\u001b[0m\u001b[1;33m\u001b[0m\u001b[0m\n\u001b[0;32m   3107\u001b[0m             \u001b[1;32mif\u001b[0m \u001b[0mlabels\u001b[0m \u001b[1;32mis\u001b[0m \u001b[1;32mnot\u001b[0m \u001b[1;32mNone\u001b[0m\u001b[1;33m:\u001b[0m\u001b[1;33m\u001b[0m\u001b[0m\n\u001b[1;32m-> 3108\u001b[1;33m                 \u001b[0mobj\u001b[0m \u001b[1;33m=\u001b[0m \u001b[0mobj\u001b[0m\u001b[1;33m.\u001b[0m\u001b[0m_drop_axis\u001b[0m\u001b[1;33m(\u001b[0m\u001b[0mlabels\u001b[0m\u001b[1;33m,\u001b[0m \u001b[0maxis\u001b[0m\u001b[1;33m,\u001b[0m \u001b[0mlevel\u001b[0m\u001b[1;33m=\u001b[0m\u001b[0mlevel\u001b[0m\u001b[1;33m,\u001b[0m \u001b[0merrors\u001b[0m\u001b[1;33m=\u001b[0m\u001b[0merrors\u001b[0m\u001b[1;33m)\u001b[0m\u001b[1;33m\u001b[0m\u001b[0m\n\u001b[0m\u001b[0;32m   3109\u001b[0m \u001b[1;33m\u001b[0m\u001b[0m\n\u001b[0;32m   3110\u001b[0m         \u001b[1;32mif\u001b[0m \u001b[0minplace\u001b[0m\u001b[1;33m:\u001b[0m\u001b[1;33m\u001b[0m\u001b[0m\n",
      "\u001b[1;32m~\\AppData\\Local\\Continuum\\anaconda3\\lib\\site-packages\\pandas\\core\\generic.py\u001b[0m in \u001b[0;36m_drop_axis\u001b[1;34m(self, labels, axis, level, errors)\u001b[0m\n\u001b[0;32m   3138\u001b[0m                 \u001b[0mnew_axis\u001b[0m \u001b[1;33m=\u001b[0m \u001b[0maxis\u001b[0m\u001b[1;33m.\u001b[0m\u001b[0mdrop\u001b[0m\u001b[1;33m(\u001b[0m\u001b[0mlabels\u001b[0m\u001b[1;33m,\u001b[0m \u001b[0mlevel\u001b[0m\u001b[1;33m=\u001b[0m\u001b[0mlevel\u001b[0m\u001b[1;33m,\u001b[0m \u001b[0merrors\u001b[0m\u001b[1;33m=\u001b[0m\u001b[0merrors\u001b[0m\u001b[1;33m)\u001b[0m\u001b[1;33m\u001b[0m\u001b[0m\n\u001b[0;32m   3139\u001b[0m             \u001b[1;32melse\u001b[0m\u001b[1;33m:\u001b[0m\u001b[1;33m\u001b[0m\u001b[0m\n\u001b[1;32m-> 3140\u001b[1;33m                 \u001b[0mnew_axis\u001b[0m \u001b[1;33m=\u001b[0m \u001b[0maxis\u001b[0m\u001b[1;33m.\u001b[0m\u001b[0mdrop\u001b[0m\u001b[1;33m(\u001b[0m\u001b[0mlabels\u001b[0m\u001b[1;33m,\u001b[0m \u001b[0merrors\u001b[0m\u001b[1;33m=\u001b[0m\u001b[0merrors\u001b[0m\u001b[1;33m)\u001b[0m\u001b[1;33m\u001b[0m\u001b[0m\n\u001b[0m\u001b[0;32m   3141\u001b[0m             \u001b[0mdropped\u001b[0m \u001b[1;33m=\u001b[0m \u001b[0mself\u001b[0m\u001b[1;33m.\u001b[0m\u001b[0mreindex\u001b[0m\u001b[1;33m(\u001b[0m\u001b[1;33m**\u001b[0m\u001b[1;33m{\u001b[0m\u001b[0maxis_name\u001b[0m\u001b[1;33m:\u001b[0m \u001b[0mnew_axis\u001b[0m\u001b[1;33m}\u001b[0m\u001b[1;33m)\u001b[0m\u001b[1;33m\u001b[0m\u001b[0m\n\u001b[0;32m   3142\u001b[0m             \u001b[1;32mtry\u001b[0m\u001b[1;33m:\u001b[0m\u001b[1;33m\u001b[0m\u001b[0m\n",
      "\u001b[1;32m~\\AppData\\Local\\Continuum\\anaconda3\\lib\\site-packages\\pandas\\core\\indexes\\base.py\u001b[0m in \u001b[0;36mdrop\u001b[1;34m(self, labels, errors)\u001b[0m\n\u001b[0;32m   4385\u001b[0m             \u001b[1;32mif\u001b[0m \u001b[0merrors\u001b[0m \u001b[1;33m!=\u001b[0m \u001b[1;34m'ignore'\u001b[0m\u001b[1;33m:\u001b[0m\u001b[1;33m\u001b[0m\u001b[0m\n\u001b[0;32m   4386\u001b[0m                 raise KeyError(\n\u001b[1;32m-> 4387\u001b[1;33m                     'labels %s not contained in axis' % labels[mask])\n\u001b[0m\u001b[0;32m   4388\u001b[0m             \u001b[0mindexer\u001b[0m \u001b[1;33m=\u001b[0m \u001b[0mindexer\u001b[0m\u001b[1;33m[\u001b[0m\u001b[1;33m~\u001b[0m\u001b[0mmask\u001b[0m\u001b[1;33m]\u001b[0m\u001b[1;33m\u001b[0m\u001b[0m\n\u001b[0;32m   4389\u001b[0m         \u001b[1;32mreturn\u001b[0m \u001b[0mself\u001b[0m\u001b[1;33m.\u001b[0m\u001b[0mdelete\u001b[0m\u001b[1;33m(\u001b[0m\u001b[0mindexer\u001b[0m\u001b[1;33m)\u001b[0m\u001b[1;33m\u001b[0m\u001b[0m\n",
      "\u001b[1;31mKeyError\u001b[0m: \"labels ['A91'] not contained in axis\""
     ]
    }
   ],
   "source": [
    "X_train_Hot=X_train_Hot.drop('A91', axis=1)\n",
    "X_train_Hot=X_train_Hot.drop('A92',  axis=1)\n",
    "X_train_Hot=X_train_Hot.drop('A93',  axis=1)\n",
    "X_train_Hot=X_train_Hot.drop('A94',  axis=1)\n",
    "X_train_Hot=X_train_Hot.drop('Foreign',  axis=1)\n",
    "X_test_Hot=X_test_Hot.drop('A91',  axis=1)\n",
    "X_test_Hot=X_test_Hot.drop('A92',  axis=1)\n",
    "X_test_Hot=X_test_Hot.drop('A93',  axis=1)\n",
    "X_test_Hot=X_test_Hot.drop('A94',  axis=1)\n",
    "X_test_Hot=X_test_Hot.drop('Foreign',  axis=1)\n"
   ]
  },
  {
   "cell_type": "code",
   "execution_count": 160,
   "metadata": {},
   "outputs": [],
   "source": [
    "X_test_Hot=X_test_Hot.drop('JobInfo',  axis=1)\n",
    "X_train_Hot=X_train_Hot.drop('JobInfo',  axis=1)"
   ]
  },
  {
   "cell_type": "code",
   "execution_count": 161,
   "metadata": {},
   "outputs": [
    {
     "data": {
      "text/plain": [
       "Index(['Duration', 'CreditHistory', 'Employment', 'Guarantors', 'Age',\n",
       "       'NumberOfCreditsInBank', 'NumberOfPeopleBeingLiable', 'Val',\n",
       "       'Telephone'],\n",
       "      dtype='object')"
      ]
     },
     "execution_count": 161,
     "metadata": {},
     "output_type": "execute_result"
    }
   ],
   "source": [
    "X_train_Hot.columns"
   ]
  },
  {
   "cell_type": "code",
   "execution_count": 262,
   "metadata": {},
   "outputs": [
    {
     "name": "stdout",
     "output_type": "stream",
     "text": [
      "(0.1034235816255007, 0.6914893617021277, 0.30851063829787234)\n",
      "[0.30828758169934634, 0.708, 0.18301551382244907]\n"
     ]
    }
   ],
   "source": [
    "#RF only\n",
    "modelRF = sklearn.ensemble.RandomForestClassifier(n_estimators=23,random_state=239, max_depth=20,min_samples_leaf=4, min_samples_split=0.1)\n",
    "print(modelFit(modelRF, X_train_Hot, y_train_Hot))\n",
    "print(modelCheck(modelRF, X_train_Hot, y_train_Hot, X_test_Hot, y_test_Hot))"
   ]
  },
  {
   "cell_type": "code",
   "execution_count": 163,
   "metadata": {},
   "outputs": [
    {
     "data": {
      "text/plain": [
       "(array([0.24819208, 0.20774852, 0.13678787, 0.01694938, 0.12460749,\n",
       "        0.0081914 , 0.01714867, 0.22306932, 0.01730526]),\n",
       " Index(['Duration', 'CreditHistory', 'Employment', 'Guarantors', 'Age',\n",
       "        'NumberOfCreditsInBank', 'NumberOfPeopleBeingLiable', 'Val',\n",
       "        'Telephone'],\n",
       "       dtype='object'))"
      ]
     },
     "execution_count": 163,
     "metadata": {},
     "output_type": "execute_result"
    }
   ],
   "source": [
    "modelRF.feature_importances_, X_train_Hot.columns"
   ]
  },
  {
   "cell_type": "code",
   "execution_count": 153,
   "metadata": {},
   "outputs": [],
   "source": [
    "#cold case:\n",
    "X_train_Cold=X_train_Cold.drop('A91', axis=1)\n",
    "X_train_Cold=X_train_Cold.drop('A92',  axis=1)\n",
    "X_train_Cold=X_train_Cold.drop('A93',  axis=1)\n",
    "X_train_Cold=X_train_Cold.drop('A94',  axis=1)\n",
    "X_train_Cold=X_train_Cold.drop('Foreign',  axis=1)\n",
    "X_test_Cold=X_test_Cold.drop('A91',  axis=1)\n",
    "X_test_Cold=X_test_Cold.drop('A92',  axis=1)\n",
    "X_test_Cold=X_test_Cold.drop('A93',  axis=1)\n",
    "X_test_Cold=X_test_Cold.drop('A94',  axis=1)\n",
    "X_test_Cold=X_test_Cold.drop('Foreign',  axis=1)\n"
   ]
  },
  {
   "cell_type": "code",
   "execution_count": 164,
   "metadata": {},
   "outputs": [],
   "source": [
    "X_test_Cold=X_test_Cold.drop('JobInfo',  axis=1)\n",
    "X_train_Cold=X_train_Cold.drop('JobInfo',  axis=1)"
   ]
  },
  {
   "cell_type": "code",
   "execution_count": 259,
   "metadata": {},
   "outputs": [
    {
     "name": "stdout",
     "output_type": "stream",
     "text": [
      "(0.04696550378653006, 0.6790780141843972, 0.30851063829787234)\n",
      "[0.3065802469135802, 0.716, 0.19382510871766315]\n"
     ]
    }
   ],
   "source": [
    "#RF only\n",
    "modelRF2 = sklearn.ensemble.RandomForestClassifier(n_estimators=11,random_state=239, max_depth=5,min_samples_leaf=5, min_samples_split=0.1)\n",
    "print(modelFit(modelRF2, X_train_Cold, y_train_Cold))\n",
    "print(modelCheck(modelRF2, X_train_Cold, y_train_Cold, X_test_Cold, y_test_Cold))"
   ]
  },
  {
   "cell_type": "code",
   "execution_count": 166,
   "metadata": {},
   "outputs": [
    {
     "data": {
      "text/plain": [
       "(array([0.18813267, 0.15691634, 0.05028441, 0.156325  , 0.02199918,\n",
       "        0.02443074, 0.35852057, 0.04339109]),\n",
       " Index(['Duration', 'Employment', 'Guarantors', 'Age', 'NumberOfCreditsInBank',\n",
       "        'NumberOfPeopleBeingLiable', 'Val', 'Telephone'],\n",
       "       dtype='object'))"
      ]
     },
     "execution_count": 166,
     "metadata": {},
     "output_type": "execute_result"
    }
   ],
   "source": [
    "modelRF2.feature_importances_, X_train_Cold.columns"
   ]
  },
  {
   "cell_type": "markdown",
   "metadata": {},
   "source": []
  }
 ],
 "metadata": {
  "kernelspec": {
   "display_name": "Python 3",
   "language": "python",
   "name": "python3"
  },
  "language_info": {
   "codemirror_mode": {
    "name": "ipython",
    "version": 3
   },
   "file_extension": ".py",
   "mimetype": "text/x-python",
   "name": "python",
   "nbconvert_exporter": "python",
   "pygments_lexer": "ipython3",
   "version": "3.6.5"
  }
 },
 "nbformat": 4,
 "nbformat_minor": 2
}
